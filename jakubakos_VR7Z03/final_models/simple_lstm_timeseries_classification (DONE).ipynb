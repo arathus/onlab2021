{
 "cells": [
  {
   "cell_type": "code",
   "execution_count": 53,
   "metadata": {},
   "outputs": [],
   "source": [
    "from plotly.offline import iplot\n",
    "import matplotlib.pyplot as plt\n",
    "from matplotlib.pyplot import figure\n",
    "import plotly.express as px\n",
    "import pandas as pd\n",
    "import numpy as np\n",
    "from os import walk\n",
    "from tqdm.auto import tqdm\n",
    "from datetime import datetime\n",
    "import seaborn as sn\n",
    "from sklearn.cluster import KMeans"
   ]
  },
  {
   "cell_type": "code",
   "execution_count": 54,
   "metadata": {},
   "outputs": [
    {
     "data": {
      "text/html": [
       "<div>\n",
       "<style scoped>\n",
       "    .dataframe tbody tr th:only-of-type {\n",
       "        vertical-align: middle;\n",
       "    }\n",
       "\n",
       "    .dataframe tbody tr th {\n",
       "        vertical-align: top;\n",
       "    }\n",
       "\n",
       "    .dataframe thead th {\n",
       "        text-align: right;\n",
       "    }\n",
       "</style>\n",
       "<table border=\"1\" class=\"dataframe\">\n",
       "  <thead>\n",
       "    <tr style=\"text-align: right;\">\n",
       "      <th></th>\n",
       "      <th>timestamp</th>\n",
       "      <th>open</th>\n",
       "      <th>high</th>\n",
       "      <th>low</th>\n",
       "      <th>close</th>\n",
       "      <th>volume</th>\n",
       "      <th>score</th>\n",
       "    </tr>\n",
       "  </thead>\n",
       "  <tbody>\n",
       "    <tr>\n",
       "      <th>12</th>\n",
       "      <td>2021-02-27 15:08:55</td>\n",
       "      <td>1483.68</td>\n",
       "      <td>1483.92</td>\n",
       "      <td>1483.56</td>\n",
       "      <td>1483.56</td>\n",
       "      <td>8.40117</td>\n",
       "      <td>-0.956559</td>\n",
       "    </tr>\n",
       "    <tr>\n",
       "      <th>13</th>\n",
       "      <td>2021-02-27 15:09:00</td>\n",
       "      <td>1483.27</td>\n",
       "      <td>1483.28</td>\n",
       "      <td>1483.11</td>\n",
       "      <td>1483.11</td>\n",
       "      <td>1.92292</td>\n",
       "      <td>-1.064994</td>\n",
       "    </tr>\n",
       "    <tr>\n",
       "      <th>14</th>\n",
       "      <td>2021-02-27 15:09:05</td>\n",
       "      <td>1482.49</td>\n",
       "      <td>1482.49</td>\n",
       "      <td>1482.16</td>\n",
       "      <td>1482.19</td>\n",
       "      <td>3.57305</td>\n",
       "      <td>-1.053513</td>\n",
       "    </tr>\n",
       "    <tr>\n",
       "      <th>15</th>\n",
       "      <td>2021-02-27 15:09:10</td>\n",
       "      <td>1482.36</td>\n",
       "      <td>1482.73</td>\n",
       "      <td>1482.22</td>\n",
       "      <td>1482.73</td>\n",
       "      <td>2.02586</td>\n",
       "      <td>-0.954966</td>\n",
       "    </tr>\n",
       "    <tr>\n",
       "      <th>16</th>\n",
       "      <td>2021-02-27 15:09:15</td>\n",
       "      <td>1482.60</td>\n",
       "      <td>1483.39</td>\n",
       "      <td>1482.51</td>\n",
       "      <td>1483.39</td>\n",
       "      <td>1.71675</td>\n",
       "      <td>-0.859152</td>\n",
       "    </tr>\n",
       "    <tr>\n",
       "      <th>...</th>\n",
       "      <td>...</td>\n",
       "      <td>...</td>\n",
       "      <td>...</td>\n",
       "      <td>...</td>\n",
       "      <td>...</td>\n",
       "      <td>...</td>\n",
       "      <td>...</td>\n",
       "    </tr>\n",
       "    <tr>\n",
       "      <th>34318</th>\n",
       "      <td>2021-03-01 14:26:00</td>\n",
       "      <td>1530.01</td>\n",
       "      <td>1530.49</td>\n",
       "      <td>1530.00</td>\n",
       "      <td>1530.49</td>\n",
       "      <td>15.21124</td>\n",
       "      <td>-0.521830</td>\n",
       "    </tr>\n",
       "    <tr>\n",
       "      <th>34319</th>\n",
       "      <td>2021-03-01 14:26:05</td>\n",
       "      <td>1530.42</td>\n",
       "      <td>1530.42</td>\n",
       "      <td>1530.01</td>\n",
       "      <td>1530.08</td>\n",
       "      <td>3.90970</td>\n",
       "      <td>-0.378777</td>\n",
       "    </tr>\n",
       "    <tr>\n",
       "      <th>34320</th>\n",
       "      <td>2021-03-01 14:26:10</td>\n",
       "      <td>1530.00</td>\n",
       "      <td>1530.25</td>\n",
       "      <td>1530.00</td>\n",
       "      <td>1530.25</td>\n",
       "      <td>11.90400</td>\n",
       "      <td>-0.241758</td>\n",
       "    </tr>\n",
       "    <tr>\n",
       "      <th>34321</th>\n",
       "      <td>2021-03-01 14:26:15</td>\n",
       "      <td>1530.56</td>\n",
       "      <td>1531.35</td>\n",
       "      <td>1530.56</td>\n",
       "      <td>1531.35</td>\n",
       "      <td>2.72905</td>\n",
       "      <td>-0.114336</td>\n",
       "    </tr>\n",
       "    <tr>\n",
       "      <th>34322</th>\n",
       "      <td>2021-03-01 14:26:20</td>\n",
       "      <td>1531.75</td>\n",
       "      <td>1531.76</td>\n",
       "      <td>1531.43</td>\n",
       "      <td>1531.60</td>\n",
       "      <td>3.85500</td>\n",
       "      <td>0.088264</td>\n",
       "    </tr>\n",
       "  </tbody>\n",
       "</table>\n",
       "<p>34311 rows × 7 columns</p>\n",
       "</div>"
      ],
      "text/plain": [
       "                 timestamp     open     high      low    close    volume  \\\n",
       "12     2021-02-27 15:08:55  1483.68  1483.92  1483.56  1483.56   8.40117   \n",
       "13     2021-02-27 15:09:00  1483.27  1483.28  1483.11  1483.11   1.92292   \n",
       "14     2021-02-27 15:09:05  1482.49  1482.49  1482.16  1482.19   3.57305   \n",
       "15     2021-02-27 15:09:10  1482.36  1482.73  1482.22  1482.73   2.02586   \n",
       "16     2021-02-27 15:09:15  1482.60  1483.39  1482.51  1483.39   1.71675   \n",
       "...                    ...      ...      ...      ...      ...       ...   \n",
       "34318  2021-03-01 14:26:00  1530.01  1530.49  1530.00  1530.49  15.21124   \n",
       "34319  2021-03-01 14:26:05  1530.42  1530.42  1530.01  1530.08   3.90970   \n",
       "34320  2021-03-01 14:26:10  1530.00  1530.25  1530.00  1530.25  11.90400   \n",
       "34321  2021-03-01 14:26:15  1530.56  1531.35  1530.56  1531.35   2.72905   \n",
       "34322  2021-03-01 14:26:20  1531.75  1531.76  1531.43  1531.60   3.85500   \n",
       "\n",
       "          score  \n",
       "12    -0.956559  \n",
       "13    -1.064994  \n",
       "14    -1.053513  \n",
       "15    -0.954966  \n",
       "16    -0.859152  \n",
       "...         ...  \n",
       "34318 -0.521830  \n",
       "34319 -0.378777  \n",
       "34320 -0.241758  \n",
       "34321 -0.114336  \n",
       "34322  0.088264  \n",
       "\n",
       "[34311 rows x 7 columns]"
      ]
     },
     "execution_count": 54,
     "metadata": {},
     "output_type": "execute_result"
    }
   ],
   "source": [
    "train_df = pd.read_csv(\"./aggregated_data/labeled_5s_candles.csv\")\n",
    "train_df.drop([\"Unnamed: 0\"], axis=1, inplace=True)\n",
    "train_df.dropna(inplace=True)\n",
    "train_df"
   ]
  },
  {
   "cell_type": "markdown",
   "metadata": {},
   "source": [
    "In order to find right K, I used the elbow method."
   ]
  },
  {
   "cell_type": "code",
   "execution_count": 55,
   "metadata": {},
   "outputs": [
    {
     "data": {
      "application/vnd.jupyter.widget-view+json": {
       "model_id": "724b5cec8ffa4496bc415f16544f812e",
       "version_major": 2,
       "version_minor": 0
      },
      "text/plain": [
       "  0%|          | 0/11 [00:00<?, ?it/s]"
      ]
     },
     "metadata": {},
     "output_type": "display_data"
    }
   ],
   "source": [
    "from tqdm.auto import tqdm\n",
    "\n",
    "distortions = []\n",
    "\n",
    "K = range(1,12)\n",
    "for k in tqdm(K):\n",
    "    kmeanModel = KMeans(n_clusters=k)\n",
    "    kmeanModel.fit(train_df[['score']])\n",
    "    distortions.append(kmeanModel.inertia_)"
   ]
  },
  {
   "cell_type": "code",
   "execution_count": 56,
   "metadata": {},
   "outputs": [
    {
     "data": {
      "image/png": "[encoded data removed]",
      "text/plain": [
       "<Figure size 1152x576 with 1 Axes>"
      ]
     },
     "metadata": {
      "needs_background": "light"
     },
     "output_type": "display_data"
    }
   ],
   "source": [
    "import matplotlib.pyplot as plt\n",
    "\n",
    "plt.figure(figsize=(16,8))\n",
    "plt.plot(K, distortions, 'bx-')\n",
    "plt.xlabel('k')\n",
    "plt.ylabel('Distortion')\n",
    "plt.title('The Elbow Method showing the optimal k')\n",
    "plt.show()"
   ]
  },
  {
   "cell_type": "code",
   "execution_count": 57,
   "metadata": {},
   "outputs": [
    {
     "name": "stderr",
     "output_type": "stream",
     "text": [
      "/home/arathus/anaconda3/lib/python3.7/site-packages/sklearn/cluster/_kmeans.py:788: FutureWarning:\n",
      "\n",
      "'precompute_distances' was deprecated in version 0.23 and will be removed in 1.0 (renaming of 0.25). It has no effect\n",
      "\n",
      "/home/arathus/anaconda3/lib/python3.7/site-packages/sklearn/cluster/_kmeans.py:793: FutureWarning:\n",
      "\n",
      "'n_jobs' was deprecated in version 0.23 and will be removed in 1.0 (renaming of 0.25).\n",
      "\n"
     ]
    },
    {
     "name": "stdout",
     "output_type": "stream",
     "text": [
      "0    0.366734\n",
      "4    0.280260\n",
      "1    0.230276\n",
      "2    0.070706\n",
      "3    0.052024\n",
      "Name: class, dtype: float64\n"
     ]
    },
    {
     "data": {
      "text/html": [
       "<div>\n",
       "<style scoped>\n",
       "    .dataframe tbody tr th:only-of-type {\n",
       "        vertical-align: middle;\n",
       "    }\n",
       "\n",
       "    .dataframe tbody tr th {\n",
       "        vertical-align: top;\n",
       "    }\n",
       "\n",
       "    .dataframe thead th {\n",
       "        text-align: right;\n",
       "    }\n",
       "</style>\n",
       "<table border=\"1\" class=\"dataframe\">\n",
       "  <thead>\n",
       "    <tr style=\"text-align: right;\">\n",
       "      <th></th>\n",
       "      <th>timestamp</th>\n",
       "      <th>open</th>\n",
       "      <th>high</th>\n",
       "      <th>low</th>\n",
       "      <th>close</th>\n",
       "      <th>volume</th>\n",
       "      <th>score</th>\n",
       "      <th>class</th>\n",
       "      <th>percs</th>\n",
       "    </tr>\n",
       "  </thead>\n",
       "  <tbody>\n",
       "    <tr>\n",
       "      <th>12</th>\n",
       "      <td>2021-02-27 15:08:55</td>\n",
       "      <td>1483.68</td>\n",
       "      <td>1483.92</td>\n",
       "      <td>1483.56</td>\n",
       "      <td>1483.56</td>\n",
       "      <td>8.40117</td>\n",
       "      <td>-0.956559</td>\n",
       "      <td>4</td>\n",
       "      <td>0.280260</td>\n",
       "    </tr>\n",
       "    <tr>\n",
       "      <th>13</th>\n",
       "      <td>2021-02-27 15:09:00</td>\n",
       "      <td>1483.27</td>\n",
       "      <td>1483.28</td>\n",
       "      <td>1483.11</td>\n",
       "      <td>1483.11</td>\n",
       "      <td>1.92292</td>\n",
       "      <td>-1.064994</td>\n",
       "      <td>4</td>\n",
       "      <td>0.280260</td>\n",
       "    </tr>\n",
       "    <tr>\n",
       "      <th>14</th>\n",
       "      <td>2021-02-27 15:09:05</td>\n",
       "      <td>1482.49</td>\n",
       "      <td>1482.49</td>\n",
       "      <td>1482.16</td>\n",
       "      <td>1482.19</td>\n",
       "      <td>3.57305</td>\n",
       "      <td>-1.053513</td>\n",
       "      <td>4</td>\n",
       "      <td>0.280260</td>\n",
       "    </tr>\n",
       "    <tr>\n",
       "      <th>15</th>\n",
       "      <td>2021-02-27 15:09:10</td>\n",
       "      <td>1482.36</td>\n",
       "      <td>1482.73</td>\n",
       "      <td>1482.22</td>\n",
       "      <td>1482.73</td>\n",
       "      <td>2.02586</td>\n",
       "      <td>-0.954966</td>\n",
       "      <td>4</td>\n",
       "      <td>0.280260</td>\n",
       "    </tr>\n",
       "    <tr>\n",
       "      <th>16</th>\n",
       "      <td>2021-02-27 15:09:15</td>\n",
       "      <td>1482.60</td>\n",
       "      <td>1483.39</td>\n",
       "      <td>1482.51</td>\n",
       "      <td>1483.39</td>\n",
       "      <td>1.71675</td>\n",
       "      <td>-0.859152</td>\n",
       "      <td>4</td>\n",
       "      <td>0.280260</td>\n",
       "    </tr>\n",
       "    <tr>\n",
       "      <th>...</th>\n",
       "      <td>...</td>\n",
       "      <td>...</td>\n",
       "      <td>...</td>\n",
       "      <td>...</td>\n",
       "      <td>...</td>\n",
       "      <td>...</td>\n",
       "      <td>...</td>\n",
       "      <td>...</td>\n",
       "      <td>...</td>\n",
       "    </tr>\n",
       "    <tr>\n",
       "      <th>34318</th>\n",
       "      <td>2021-03-01 14:26:00</td>\n",
       "      <td>1530.01</td>\n",
       "      <td>1530.49</td>\n",
       "      <td>1530.00</td>\n",
       "      <td>1530.49</td>\n",
       "      <td>15.21124</td>\n",
       "      <td>-0.521830</td>\n",
       "      <td>4</td>\n",
       "      <td>0.280260</td>\n",
       "    </tr>\n",
       "    <tr>\n",
       "      <th>34319</th>\n",
       "      <td>2021-03-01 14:26:05</td>\n",
       "      <td>1530.42</td>\n",
       "      <td>1530.42</td>\n",
       "      <td>1530.01</td>\n",
       "      <td>1530.08</td>\n",
       "      <td>3.90970</td>\n",
       "      <td>-0.378777</td>\n",
       "      <td>4</td>\n",
       "      <td>0.280260</td>\n",
       "    </tr>\n",
       "    <tr>\n",
       "      <th>34320</th>\n",
       "      <td>2021-03-01 14:26:10</td>\n",
       "      <td>1530.00</td>\n",
       "      <td>1530.25</td>\n",
       "      <td>1530.00</td>\n",
       "      <td>1530.25</td>\n",
       "      <td>11.90400</td>\n",
       "      <td>-0.241758</td>\n",
       "      <td>0</td>\n",
       "      <td>0.366734</td>\n",
       "    </tr>\n",
       "    <tr>\n",
       "      <th>34321</th>\n",
       "      <td>2021-03-01 14:26:15</td>\n",
       "      <td>1530.56</td>\n",
       "      <td>1531.35</td>\n",
       "      <td>1530.56</td>\n",
       "      <td>1531.35</td>\n",
       "      <td>2.72905</td>\n",
       "      <td>-0.114336</td>\n",
       "      <td>0</td>\n",
       "      <td>0.366734</td>\n",
       "    </tr>\n",
       "    <tr>\n",
       "      <th>34322</th>\n",
       "      <td>2021-03-01 14:26:20</td>\n",
       "      <td>1531.75</td>\n",
       "      <td>1531.76</td>\n",
       "      <td>1531.43</td>\n",
       "      <td>1531.60</td>\n",
       "      <td>3.85500</td>\n",
       "      <td>0.088264</td>\n",
       "      <td>0</td>\n",
       "      <td>0.366734</td>\n",
       "    </tr>\n",
       "  </tbody>\n",
       "</table>\n",
       "<p>34311 rows × 9 columns</p>\n",
       "</div>"
      ],
      "text/plain": [
       "                 timestamp     open     high      low    close    volume  \\\n",
       "12     2021-02-27 15:08:55  1483.68  1483.92  1483.56  1483.56   8.40117   \n",
       "13     2021-02-27 15:09:00  1483.27  1483.28  1483.11  1483.11   1.92292   \n",
       "14     2021-02-27 15:09:05  1482.49  1482.49  1482.16  1482.19   3.57305   \n",
       "15     2021-02-27 15:09:10  1482.36  1482.73  1482.22  1482.73   2.02586   \n",
       "16     2021-02-27 15:09:15  1482.60  1483.39  1482.51  1483.39   1.71675   \n",
       "...                    ...      ...      ...      ...      ...       ...   \n",
       "34318  2021-03-01 14:26:00  1530.01  1530.49  1530.00  1530.49  15.21124   \n",
       "34319  2021-03-01 14:26:05  1530.42  1530.42  1530.01  1530.08   3.90970   \n",
       "34320  2021-03-01 14:26:10  1530.00  1530.25  1530.00  1530.25  11.90400   \n",
       "34321  2021-03-01 14:26:15  1530.56  1531.35  1530.56  1531.35   2.72905   \n",
       "34322  2021-03-01 14:26:20  1531.75  1531.76  1531.43  1531.60   3.85500   \n",
       "\n",
       "          score  class     percs  \n",
       "12    -0.956559      4  0.280260  \n",
       "13    -1.064994      4  0.280260  \n",
       "14    -1.053513      4  0.280260  \n",
       "15    -0.954966      4  0.280260  \n",
       "16    -0.859152      4  0.280260  \n",
       "...         ...    ...       ...  \n",
       "34318 -0.521830      4  0.280260  \n",
       "34319 -0.378777      4  0.280260  \n",
       "34320 -0.241758      0  0.366734  \n",
       "34321 -0.114336      0  0.366734  \n",
       "34322  0.088264      0  0.366734  \n",
       "\n",
       "[34311 rows x 9 columns]"
      ]
     },
     "execution_count": 57,
     "metadata": {},
     "output_type": "execute_result"
    }
   ],
   "source": [
    "kmeans = KMeans(algorithm='auto', init='k-means++', max_iter=1000,\n",
    "    n_clusters=5, n_init=10, n_jobs=None, precompute_distances='auto',\n",
    "    random_state=42, tol=0.001, verbose=0)\n",
    "\n",
    "train_df[\"class\"]  = kmeans.fit_predict(train_df[['score']])\n",
    "\n",
    "heights = train_df[\"class\"].value_counts()/len(train_df[\"class\"])\n",
    "print(heights)\n",
    "train_df[\"percs\"] = train_df[\"class\"].map(heights.to_dict())\n",
    "train_df"
   ]
  },
  {
   "cell_type": "code",
   "execution_count": 58,
   "metadata": {
    "scrolled": false
   },
   "outputs": [
    {
     "data": {
      "text/plain": [
       "Text(0.5, 0, 'Score values')"
      ]
     },
     "execution_count": 58,
     "metadata": {},
     "output_type": "execute_result"
    },
    {
     "data": {
      "image/png": "[encoded data removed]",
      "text/plain": [
       "<Figure size 1296x576 with 1 Axes>"
      ]
     },
     "metadata": {
      "needs_background": "light"
     },
     "output_type": "display_data"
    }
   ],
   "source": [
    "import numpy as np\n",
    "import matplotlib.pyplot as pp\n",
    "import matplotlib\n",
    "\n",
    "ar = train_df[\"score\"].values\n",
    "y = train_df[\"percs\"].values\n",
    "label = train_df[\"class\"].values\n",
    "\n",
    "colors = ['yellow','green','blue', \"red\", \"magenta\"]\n",
    "\n",
    "plt.figure(figsize=(18,8))\n",
    "plt.scatter(ar, y + 0., c=label,cmap=matplotlib.colors.ListedColormap(colors))\n",
    "plt.title('Distribution of classes')\n",
    "plt.ylabel('Percentage of class in dataset')\n",
    "plt.xlabel('Score values')"
   ]
  },
  {
   "cell_type": "markdown",
   "metadata": {},
   "source": [
    "###### It is clear that the values are broken down into 5 well-separable clusters. In order to have a clear idea of which models gave what estimates in subsequent teachings and evaluations, it is important to standardize labeling as well.\n",
    "##### 0: Strong fall \n",
    "##### 1: Weak falling\n",
    "##### 2: Stagnant\n",
    "##### 3: Weak rising \n",
    "##### 4: Strong rising "
   ]
  },
  {
   "cell_type": "code",
   "execution_count": 59,
   "metadata": {},
   "outputs": [],
   "source": [
    "def relabel_df(train_df):\n",
    "    relabel_dict = {\n",
    "        1:3,\n",
    "        4:1,\n",
    "        2:0,\n",
    "        3:4,\n",
    "        0:2\n",
    "    }\n",
    "    train_df[\"class\"] = train_df[\"class\"].map(relabel_dict)\n",
    "    \n",
    "def relabel_prediction(array):\n",
    "    relabel_dict = {\n",
    "        1:3,\n",
    "        4:1,\n",
    "        2:0,\n",
    "        3:4,\n",
    "        0:2\n",
    "    }\n",
    "    return np.vectorize(relabel_dict.get)(array)"
   ]
  },
  {
   "cell_type": "code",
   "execution_count": 60,
   "metadata": {},
   "outputs": [
    {
     "name": "stdout",
     "output_type": "stream",
     "text": [
      "2    0.366734\n",
      "1    0.280260\n",
      "3    0.230276\n",
      "0    0.070706\n",
      "4    0.052024\n",
      "Name: class, dtype: float64\n"
     ]
    },
    {
     "data": {
      "text/plain": [
       "Text(0.5, 0, 'Score values')"
      ]
     },
     "execution_count": 60,
     "metadata": {},
     "output_type": "execute_result"
    },
    {
     "data": {
      "image/png": "[encoded data removed]",
      "text/plain": [
       "<Figure size 1296x576 with 1 Axes>"
      ]
     },
     "metadata": {
      "needs_background": "light"
     },
     "output_type": "display_data"
    }
   ],
   "source": [
    "relabel_df(train_df)\n",
    "heights = train_df[\"class\"].value_counts()/len(train_df[\"class\"])\n",
    "print(heights)\n",
    "ar = train_df[\"score\"].values\n",
    "y = train_df[\"percs\"].values\n",
    "label = train_df[\"class\"].values\n",
    "\n",
    "colors = ['yellow','green','blue', \"red\", \"magenta\"]\n",
    "\n",
    "plt.figure(figsize=(18,8))\n",
    "plt.scatter(ar, y + 0., c=label,cmap=matplotlib.colors.ListedColormap(colors))\n",
    "plt.title('Distribution of classes')\n",
    "plt.ylabel('Percentage of class in dataset')\n",
    "plt.xlabel('Score values')"
   ]
  },
  {
   "cell_type": "markdown",
   "metadata": {},
   "source": [
    "## Simple models"
   ]
  },
  {
   "cell_type": "markdown",
   "metadata": {},
   "source": [
    "### Linear Extrapolation"
   ]
  },
  {
   "cell_type": "markdown",
   "metadata": {},
   "source": [
    "Through a simpler approach, I tried to give an approximation of what baseline accuracy we can expect. Using linear extrapolation and using the default indicator values, I tried to determine the shifted and corrected values, which I then classified into the appropriate class using the K-means algorithm defined above."
   ]
  },
  {
   "cell_type": "code",
   "execution_count": 61,
   "metadata": {},
   "outputs": [],
   "source": [
    "from sklearn.linear_model import LinearRegression\n",
    "from sklearn.metrics import mean_squared_error\n",
    "from sklearn.metrics import confusion_matrix"
   ]
  },
  {
   "cell_type": "code",
   "execution_count": 62,
   "metadata": {},
   "outputs": [
    {
     "data": {
      "application/vnd.jupyter.widget-view+json": {
       "model_id": "f26913a4d20b4f0aae44cd06d1b05d0e",
       "version_major": 2,
       "version_minor": 0
      },
      "text/plain": [
       "  0%|          | 0/34311 [00:00<?, ?it/s]"
      ]
     },
     "metadata": {},
     "output_type": "display_data"
    },
    {
     "data": {
      "application/vnd.jupyter.widget-view+json": {
       "model_id": "5f2eef83b4d34219b6f65f98dba47bd5",
       "version_major": 2,
       "version_minor": 0
      },
      "text/plain": [
       "  0%|          | 0/34311 [00:00<?, ?it/s]"
      ]
     },
     "metadata": {},
     "output_type": "display_data"
    },
    {
     "data": {
      "text/html": [
       "<div>\n",
       "<style scoped>\n",
       "    .dataframe tbody tr th:only-of-type {\n",
       "        vertical-align: middle;\n",
       "    }\n",
       "\n",
       "    .dataframe tbody tr th {\n",
       "        vertical-align: top;\n",
       "    }\n",
       "\n",
       "    .dataframe thead th {\n",
       "        text-align: right;\n",
       "    }\n",
       "</style>\n",
       "<table border=\"1\" class=\"dataframe\">\n",
       "  <thead>\n",
       "    <tr style=\"text-align: right;\">\n",
       "      <th></th>\n",
       "      <th>timestamp</th>\n",
       "      <th>score</th>\n",
       "      <th>class</th>\n",
       "      <th>percs</th>\n",
       "      <th>ha_open</th>\n",
       "      <th>ha_close</th>\n",
       "    </tr>\n",
       "  </thead>\n",
       "  <tbody>\n",
       "    <tr>\n",
       "      <th>19</th>\n",
       "      <td>2021-02-27 15:09:30</td>\n",
       "      <td>-0.571630</td>\n",
       "      <td>1</td>\n",
       "      <td>0.280260</td>\n",
       "      <td>1483.311250</td>\n",
       "      <td>1483.276250</td>\n",
       "    </tr>\n",
       "    <tr>\n",
       "      <th>20</th>\n",
       "      <td>2021-02-27 15:09:35</td>\n",
       "      <td>-0.485163</td>\n",
       "      <td>1</td>\n",
       "      <td>0.280260</td>\n",
       "      <td>1483.283750</td>\n",
       "      <td>1483.208125</td>\n",
       "    </tr>\n",
       "    <tr>\n",
       "      <th>21</th>\n",
       "      <td>2021-02-27 15:09:40</td>\n",
       "      <td>-0.413778</td>\n",
       "      <td>1</td>\n",
       "      <td>0.280260</td>\n",
       "      <td>1483.221250</td>\n",
       "      <td>1483.134688</td>\n",
       "    </tr>\n",
       "    <tr>\n",
       "      <th>22</th>\n",
       "      <td>2021-02-27 15:09:45</td>\n",
       "      <td>-0.328834</td>\n",
       "      <td>2</td>\n",
       "      <td>0.366734</td>\n",
       "      <td>1483.148125</td>\n",
       "      <td>1483.090938</td>\n",
       "    </tr>\n",
       "    <tr>\n",
       "      <th>23</th>\n",
       "      <td>2021-02-27 15:09:50</td>\n",
       "      <td>-0.326296</td>\n",
       "      <td>2</td>\n",
       "      <td>0.366734</td>\n",
       "      <td>1483.103750</td>\n",
       "      <td>1483.038750</td>\n",
       "    </tr>\n",
       "    <tr>\n",
       "      <th>...</th>\n",
       "      <td>...</td>\n",
       "      <td>...</td>\n",
       "      <td>...</td>\n",
       "      <td>...</td>\n",
       "      <td>...</td>\n",
       "      <td>...</td>\n",
       "    </tr>\n",
       "    <tr>\n",
       "      <th>34318</th>\n",
       "      <td>2021-03-01 14:26:00</td>\n",
       "      <td>-0.521830</td>\n",
       "      <td>1</td>\n",
       "      <td>0.280260</td>\n",
       "      <td>1530.672500</td>\n",
       "      <td>1530.510625</td>\n",
       "    </tr>\n",
       "    <tr>\n",
       "      <th>34319</th>\n",
       "      <td>2021-03-01 14:26:05</td>\n",
       "      <td>-0.378777</td>\n",
       "      <td>1</td>\n",
       "      <td>0.280260</td>\n",
       "      <td>1530.515625</td>\n",
       "      <td>1530.423437</td>\n",
       "    </tr>\n",
       "    <tr>\n",
       "      <th>34320</th>\n",
       "      <td>2021-03-01 14:26:10</td>\n",
       "      <td>-0.241758</td>\n",
       "      <td>2</td>\n",
       "      <td>0.366734</td>\n",
       "      <td>1530.430625</td>\n",
       "      <td>1530.400938</td>\n",
       "    </tr>\n",
       "    <tr>\n",
       "      <th>34321</th>\n",
       "      <td>2021-03-01 14:26:15</td>\n",
       "      <td>-0.114336</td>\n",
       "      <td>2</td>\n",
       "      <td>0.366734</td>\n",
       "      <td>1530.408125</td>\n",
       "      <td>1530.495312</td>\n",
       "    </tr>\n",
       "    <tr>\n",
       "      <th>34322</th>\n",
       "      <td>2021-03-01 14:26:20</td>\n",
       "      <td>0.088264</td>\n",
       "      <td>2</td>\n",
       "      <td>0.366734</td>\n",
       "      <td>1530.500625</td>\n",
       "      <td>1530.599062</td>\n",
       "    </tr>\n",
       "  </tbody>\n",
       "</table>\n",
       "<p>34304 rows × 6 columns</p>\n",
       "</div>"
      ],
      "text/plain": [
       "                 timestamp     score  class     percs      ha_open  \\\n",
       "19     2021-02-27 15:09:30 -0.571630      1  0.280260  1483.311250   \n",
       "20     2021-02-27 15:09:35 -0.485163      1  0.280260  1483.283750   \n",
       "21     2021-02-27 15:09:40 -0.413778      1  0.280260  1483.221250   \n",
       "22     2021-02-27 15:09:45 -0.328834      2  0.366734  1483.148125   \n",
       "23     2021-02-27 15:09:50 -0.326296      2  0.366734  1483.103750   \n",
       "...                    ...       ...    ...       ...          ...   \n",
       "34318  2021-03-01 14:26:00 -0.521830      1  0.280260  1530.672500   \n",
       "34319  2021-03-01 14:26:05 -0.378777      1  0.280260  1530.515625   \n",
       "34320  2021-03-01 14:26:10 -0.241758      2  0.366734  1530.430625   \n",
       "34321  2021-03-01 14:26:15 -0.114336      2  0.366734  1530.408125   \n",
       "34322  2021-03-01 14:26:20  0.088264      2  0.366734  1530.500625   \n",
       "\n",
       "          ha_close  \n",
       "19     1483.276250  \n",
       "20     1483.208125  \n",
       "21     1483.134688  \n",
       "22     1483.090938  \n",
       "23     1483.038750  \n",
       "...            ...  \n",
       "34318  1530.510625  \n",
       "34319  1530.423437  \n",
       "34320  1530.400938  \n",
       "34321  1530.495312  \n",
       "34322  1530.599062  \n",
       "\n",
       "[34304 rows x 6 columns]"
      ]
     },
     "execution_count": 62,
     "metadata": {},
     "output_type": "execute_result"
    }
   ],
   "source": [
    "bl_model_df = train_df.copy()\n",
    "\n",
    "o, h, l, c = np.array(bl_model_df.open.values), np.array(bl_model_df.high.values), np.array(bl_model_df.low.values),\\\n",
    "    np.array(bl_model_df.close.values)\n",
    "\n",
    "ha_close = (o + h + l + c) / 4\n",
    "ha_open = np.array([])\n",
    "\n",
    "oc_pair = np.dstack((o,c))[0]\n",
    "\n",
    "for idx in tqdm(range(len(oc_pair))):\n",
    "    if idx != 0:\n",
    "        ha_open = np.append(ha_open, (oc_pair[idx-1][0]+oc_pair[idx-1][1])/2)\n",
    "    else:\n",
    "        ha_open = np.append(ha_open, (oc_pair[idx][0]+oc_pair[idx][1])/2)\n",
    "        \n",
    "ha_high, ha_low = [np.array([])]*2\n",
    "\n",
    "vals = np.dstack((h, ha_open, ha_close))[0]\n",
    "\n",
    "for val in tqdm(vals):\n",
    "    ha_high = np.append(ha_high, max(val))\n",
    "    ha_low = np.append(ha_low, min(val))\n",
    "    \n",
    "bl_model_df[\"ha_open\"] = ha_open\n",
    "bl_model_df[\"ha_high\"] = ha_high\n",
    "bl_model_df[\"ha_low\"] = ha_low\n",
    "bl_model_df[\"ha_close\"] = ha_close\n",
    "\n",
    "#baseline smoothed heikin ashi\n",
    "bl_model_df['ha_open'] = bl_model_df['ha_open'].rolling(8).mean()\n",
    "bl_model_df['ha_close'] = bl_model_df['ha_close'].rolling(8).mean()\n",
    "\n",
    "# bl_model_df['ha_open'] = s_moving_average(bl_model_df['ha_open'].values)\n",
    "# bl_model_df['ha_close'] = s_moving_average(bl_model_df['ha_close'].values)\n",
    "\n",
    "bl_model_df.drop([\"open\", \"high\", \"low\", \"close\", \"ha_high\", \"ha_low\", \"volume\"], axis=1, inplace=True)\n",
    "bl_model_df.dropna(inplace=True)\n",
    "\n",
    "bl_model_df"
   ]
  },
  {
   "cell_type": "code",
   "execution_count": 63,
   "metadata": {},
   "outputs": [
    {
     "data": {
      "application/vnd.jupyter.widget-view+json": {
       "model_id": "7273ed31045743209af349b77824cb75",
       "version_major": 2,
       "version_minor": 0
      },
      "text/plain": [
       "  0%|          | 0/34292 [00:00<?, ?it/s]"
      ]
     },
     "metadata": {},
     "output_type": "display_data"
    },
    {
     "data": {
      "text/html": [
       "<div>\n",
       "<style scoped>\n",
       "    .dataframe tbody tr th:only-of-type {\n",
       "        vertical-align: middle;\n",
       "    }\n",
       "\n",
       "    .dataframe tbody tr th {\n",
       "        vertical-align: top;\n",
       "    }\n",
       "\n",
       "    .dataframe thead th {\n",
       "        text-align: right;\n",
       "    }\n",
       "</style>\n",
       "<table border=\"1\" class=\"dataframe\">\n",
       "  <thead>\n",
       "    <tr style=\"text-align: right;\">\n",
       "      <th></th>\n",
       "      <th>timestamp</th>\n",
       "      <th>score</th>\n",
       "      <th>class</th>\n",
       "      <th>percs</th>\n",
       "      <th>ha_open</th>\n",
       "      <th>ha_close</th>\n",
       "      <th>bl_score</th>\n",
       "    </tr>\n",
       "  </thead>\n",
       "  <tbody>\n",
       "    <tr>\n",
       "      <th>19</th>\n",
       "      <td>2021-02-27 15:09:30</td>\n",
       "      <td>-0.571630</td>\n",
       "      <td>1</td>\n",
       "      <td>0.280260</td>\n",
       "      <td>1483.311250</td>\n",
       "      <td>1483.276250</td>\n",
       "      <td>0.000000</td>\n",
       "    </tr>\n",
       "    <tr>\n",
       "      <th>20</th>\n",
       "      <td>2021-02-27 15:09:35</td>\n",
       "      <td>-0.485163</td>\n",
       "      <td>1</td>\n",
       "      <td>0.280260</td>\n",
       "      <td>1483.283750</td>\n",
       "      <td>1483.208125</td>\n",
       "      <td>0.000000</td>\n",
       "    </tr>\n",
       "    <tr>\n",
       "      <th>21</th>\n",
       "      <td>2021-02-27 15:09:40</td>\n",
       "      <td>-0.413778</td>\n",
       "      <td>1</td>\n",
       "      <td>0.280260</td>\n",
       "      <td>1483.221250</td>\n",
       "      <td>1483.134688</td>\n",
       "      <td>0.000000</td>\n",
       "    </tr>\n",
       "    <tr>\n",
       "      <th>22</th>\n",
       "      <td>2021-02-27 15:09:45</td>\n",
       "      <td>-0.328834</td>\n",
       "      <td>2</td>\n",
       "      <td>0.366734</td>\n",
       "      <td>1483.148125</td>\n",
       "      <td>1483.090938</td>\n",
       "      <td>0.000000</td>\n",
       "    </tr>\n",
       "    <tr>\n",
       "      <th>23</th>\n",
       "      <td>2021-02-27 15:09:50</td>\n",
       "      <td>-0.326296</td>\n",
       "      <td>2</td>\n",
       "      <td>0.366734</td>\n",
       "      <td>1483.103750</td>\n",
       "      <td>1483.038750</td>\n",
       "      <td>0.000000</td>\n",
       "    </tr>\n",
       "    <tr>\n",
       "      <th>...</th>\n",
       "      <td>...</td>\n",
       "      <td>...</td>\n",
       "      <td>...</td>\n",
       "      <td>...</td>\n",
       "      <td>...</td>\n",
       "      <td>...</td>\n",
       "      <td>...</td>\n",
       "    </tr>\n",
       "    <tr>\n",
       "      <th>34318</th>\n",
       "      <td>2021-03-01 14:26:00</td>\n",
       "      <td>-0.521830</td>\n",
       "      <td>1</td>\n",
       "      <td>0.280260</td>\n",
       "      <td>1530.672500</td>\n",
       "      <td>1530.510625</td>\n",
       "      <td>-0.615583</td>\n",
       "    </tr>\n",
       "    <tr>\n",
       "      <th>34319</th>\n",
       "      <td>2021-03-01 14:26:05</td>\n",
       "      <td>-0.378777</td>\n",
       "      <td>1</td>\n",
       "      <td>0.280260</td>\n",
       "      <td>1530.515625</td>\n",
       "      <td>1530.423437</td>\n",
       "      <td>-0.628239</td>\n",
       "    </tr>\n",
       "    <tr>\n",
       "      <th>34320</th>\n",
       "      <td>2021-03-01 14:26:10</td>\n",
       "      <td>-0.241758</td>\n",
       "      <td>2</td>\n",
       "      <td>0.366734</td>\n",
       "      <td>1530.430625</td>\n",
       "      <td>1530.400938</td>\n",
       "      <td>-0.593799</td>\n",
       "    </tr>\n",
       "    <tr>\n",
       "      <th>34321</th>\n",
       "      <td>2021-03-01 14:26:15</td>\n",
       "      <td>-0.114336</td>\n",
       "      <td>2</td>\n",
       "      <td>0.366734</td>\n",
       "      <td>1530.408125</td>\n",
       "      <td>1530.495312</td>\n",
       "      <td>-0.521830</td>\n",
       "    </tr>\n",
       "    <tr>\n",
       "      <th>34322</th>\n",
       "      <td>2021-03-01 14:26:20</td>\n",
       "      <td>0.088264</td>\n",
       "      <td>2</td>\n",
       "      <td>0.366734</td>\n",
       "      <td>1530.500625</td>\n",
       "      <td>1530.599062</td>\n",
       "      <td>-0.378777</td>\n",
       "    </tr>\n",
       "  </tbody>\n",
       "</table>\n",
       "<p>34304 rows × 7 columns</p>\n",
       "</div>"
      ],
      "text/plain": [
       "                 timestamp     score  class     percs      ha_open  \\\n",
       "19     2021-02-27 15:09:30 -0.571630      1  0.280260  1483.311250   \n",
       "20     2021-02-27 15:09:35 -0.485163      1  0.280260  1483.283750   \n",
       "21     2021-02-27 15:09:40 -0.413778      1  0.280260  1483.221250   \n",
       "22     2021-02-27 15:09:45 -0.328834      2  0.366734  1483.148125   \n",
       "23     2021-02-27 15:09:50 -0.326296      2  0.366734  1483.103750   \n",
       "...                    ...       ...    ...       ...          ...   \n",
       "34318  2021-03-01 14:26:00 -0.521830      1  0.280260  1530.672500   \n",
       "34319  2021-03-01 14:26:05 -0.378777      1  0.280260  1530.515625   \n",
       "34320  2021-03-01 14:26:10 -0.241758      2  0.366734  1530.430625   \n",
       "34321  2021-03-01 14:26:15 -0.114336      2  0.366734  1530.408125   \n",
       "34322  2021-03-01 14:26:20  0.088264      2  0.366734  1530.500625   \n",
       "\n",
       "          ha_close  bl_score  \n",
       "19     1483.276250  0.000000  \n",
       "20     1483.208125  0.000000  \n",
       "21     1483.134688  0.000000  \n",
       "22     1483.090938  0.000000  \n",
       "23     1483.038750  0.000000  \n",
       "...            ...       ...  \n",
       "34318  1530.510625 -0.615583  \n",
       "34319  1530.423437 -0.628239  \n",
       "34320  1530.400938 -0.593799  \n",
       "34321  1530.495312 -0.521830  \n",
       "34322  1530.599062 -0.378777  \n",
       "\n",
       "[34304 rows x 7 columns]"
      ]
     },
     "execution_count": 63,
     "metadata": {},
     "output_type": "execute_result"
    }
   ],
   "source": [
    "bl_score_arr = np.array([])\n",
    "\n",
    "opns, clss = np.array(bl_model_df['ha_open'].values), np.array(bl_model_df['ha_close'].values)\n",
    "\n",
    "for i in tqdm(range(12, len(opns))):\n",
    "    sub_opn = opns[i-12:i]\n",
    "    sub_cls = clss[i-12:i]\n",
    "    \n",
    "    new_arr = np.array([])\n",
    "    \n",
    "    for v in np.dstack((sub_opn, sub_cls))[0]:\n",
    "        new_arr = np.append(new_arr, (v[1]/v[0])-1)\n",
    "        \n",
    "    val = np.sum([score*(idx+1)/12 for idx, score in enumerate(new_arr)])*1000 #csak konstans díszétésnek\n",
    "    bl_score_arr = np.append(bl_score_arr, val)\n",
    "    \n",
    "firsts = np.empty(12)\n",
    "firsts[:] = np.nan\n",
    "\n",
    "bl_model_df[\"bl_score\"] = np.append(firsts, bl_score_arr)\n",
    "bl_model_df[\"bl_score\"] = bl_model_df[\"bl_score\"].fillna(0)\n",
    "bl_model_df"
   ]
  },
  {
   "cell_type": "code",
   "execution_count": 64,
   "metadata": {},
   "outputs": [
    {
     "name": "stderr",
     "output_type": "stream",
     "text": [
      "/home/arathus/anaconda3/lib/python3.7/site-packages/pandas/core/frame.py:4449: SettingWithCopyWarning:\n",
      "\n",
      "\n",
      "A value is trying to be set on a copy of a slice from a DataFrame\n",
      "\n",
      "See the caveats in the documentation: https://pandas.pydata.org/pandas-docs/stable/user_guide/indexing.html#returning-a-view-versus-a-copy\n",
      "\n"
     ]
    },
    {
     "data": {
      "application/vnd.jupyter.widget-view+json": {
       "model_id": "af845caea49a40f99c42f54add578d66",
       "version_major": 2,
       "version_minor": 0
      },
      "text/plain": [
       "  0%|          | 0/34280 [00:00<?, ?it/s]"
      ]
     },
     "metadata": {},
     "output_type": "display_data"
    }
   ],
   "source": [
    "linintr_train_df = bl_model_df[[\"score\", \"bl_score\"]]\n",
    "linintr_train_df.rename(columns={\"bl_score\": \"real_time_score\"}, inplace=True)\n",
    "linintr_train_df = linintr_train_df.iloc[12:]\n",
    "\n",
    "params = np.array(linintr_train_df[\"real_time_score\"].values)\n",
    "all_arr = list()\n",
    "for i in tqdm(range(12, len(params))):\n",
    "    all_arr.append(params[i-12:i])\n",
    "    \n",
    "# random shuffle\n",
    "import random\n",
    "from sklearn.model_selection import train_test_split\n",
    "\n",
    "X = np.array(all_arr)\n",
    "\n",
    "y = np.array(linintr_train_df[\"score\"].values[12:])\n",
    "\n",
    "random.seed(42)\n",
    "\n",
    "concat = list(zip(X,y))\n",
    "random.shuffle(concat)\n",
    "\n",
    "x, y = zip(*concat)\n",
    "\n",
    "X_train, X_test, y_train, y_test = train_test_split(x, y, test_size = 0.1, random_state = 42)\n",
    "X_train, X_test, y_train, y_test = np.array(X_train), np.array(X_test), np.array(y_train), np.array(y_test)"
   ]
  },
  {
   "cell_type": "code",
   "execution_count": 66,
   "metadata": {
    "scrolled": false
   },
   "outputs": [
    {
     "name": "stdout",
     "output_type": "stream",
     "text": [
      "Overall accuracy:  0.7462077012835473 \n",
      "\n",
      "class 0 accuracy: 64.0496 %\n",
      "class 1 accuracy: 74.7854 %\n",
      "class 2 accuracy: 78.3846 %\n",
      "class 3 accuracy: 74.1268 %\n",
      "class 4 accuracy: 62.9834 %\n"
     ]
    },
    {
     "data": {
      "text/plain": [
       "<AxesSubplot:>"
      ]
     },
     "execution_count": 66,
     "metadata": {},
     "output_type": "execute_result"
    },
    {
     "data": {
      "image/png": "[encoded data removed]",
      "text/plain": [
       "<Figure size 1152x720 with 2 Axes>"
      ]
     },
     "metadata": {
      "needs_background": "light"
     },
     "output_type": "display_data"
    }
   ],
   "source": [
    "from sklearn.metrics import accuracy_score\n",
    "\n",
    "reg = LinearRegression().fit(X_train, y_train)\n",
    "\n",
    "pred_classes = relabel_prediction(kmeans.predict(reg.predict(X_test).reshape(-1,1)))\n",
    "\n",
    "real_classes = relabel_prediction(kmeans.predict(y_test.reshape(-1,1)))\n",
    "\n",
    "print(\"Overall accuracy: \",\n",
    "      accuracy_score(real_classes, pred_classes), \"\\n\")\n",
    "\n",
    "matrix = confusion_matrix(real_classes, pred_classes)\n",
    "\n",
    "class_percentages = matrix.astype('float') / matrix.sum(axis=1)[:, np.newaxis]\n",
    "\n",
    "for idx, pct in enumerate(class_percentages.diagonal()):\n",
    "    print(f\"class {idx} accuracy:\", \"{:.4f} %\".format(pct*100))\n",
    "\n",
    "df_cm = pd.DataFrame(matrix, index = [str(i) for i in range(5)],\n",
    "                  columns = [str(i) for i in range(5)])\n",
    "plt.figure(figsize = (16,10))\n",
    "sn.heatmap(df_cm, annot=True, cmap='Blues', fmt='g')"
   ]
  },
  {
   "cell_type": "markdown",
   "metadata": {},
   "source": [
    "### Multinomial Logistic Regression"
   ]
  },
  {
   "cell_type": "code",
   "execution_count": 67,
   "metadata": {},
   "outputs": [],
   "source": [
    "y_train = kmeans.predict(y_train.reshape(-1,1))\n",
    "y_test = kmeans.predict(y_test.reshape(-1,1))"
   ]
  },
  {
   "cell_type": "code",
   "execution_count": 68,
   "metadata": {},
   "outputs": [
    {
     "name": "stdout",
     "output_type": "stream",
     "text": [
      "Overall accuracy:  0.7149941656942824 \n",
      "\n",
      "class 0 accuracy: 54.5455 %\n",
      "class 1 accuracy: 73.9270 %\n",
      "class 2 accuracy: 77.1538 %\n",
      "class 3 accuracy: 68.0466 %\n",
      "class 4 accuracy: 55.8011 %\n"
     ]
    },
    {
     "name": "stderr",
     "output_type": "stream",
     "text": [
      "/home/arathus/anaconda3/lib/python3.7/site-packages/sklearn/linear_model/_logistic.py:765: ConvergenceWarning:\n",
      "\n",
      "lbfgs failed to converge (status=1):\n",
      "STOP: TOTAL NO. of ITERATIONS REACHED LIMIT.\n",
      "\n",
      "Increase the number of iterations (max_iter) or scale the data as shown in:\n",
      "    https://scikit-learn.org/stable/modules/preprocessing.html\n",
      "Please also refer to the documentation for alternative solver options:\n",
      "    https://scikit-learn.org/stable/modules/linear_model.html#logistic-regression\n",
      "\n"
     ]
    },
    {
     "data": {
      "text/plain": [
       "<AxesSubplot:>"
      ]
     },
     "execution_count": 68,
     "metadata": {},
     "output_type": "execute_result"
    },
    {
     "data": {
      "image/png": "[encoded data removed]",
      "text/plain": [
       "<Figure size 1152x720 with 2 Axes>"
      ]
     },
     "metadata": {
      "needs_background": "light"
     },
     "output_type": "display_data"
    }
   ],
   "source": [
    "from sklearn.metrics import accuracy_score\n",
    "from sklearn.linear_model import LogisticRegression\n",
    "\n",
    "model = LogisticRegression(multi_class='multinomial', solver='lbfgs', penalty='l2', C=0.6)\n",
    "model.fit(X_train, y_train)\n",
    "pred_classes = relabel_prediction(model.predict_proba(X_test).argmax(axis=1))\n",
    "real_classes = relabel_prediction(np.copy(y_test))\n",
    "\n",
    "print(\"Overall accuracy: \",\n",
    "      accuracy_score(real_classes, pred_classes), \"\\n\")\n",
    "\n",
    "matrix = confusion_matrix(relabel_prediction(y_test), pred_classes)\n",
    "\n",
    "class_percentages = matrix.astype('float') / matrix.sum(axis=1)[:, np.newaxis]\n",
    "\n",
    "for idx, pct in enumerate(class_percentages.diagonal()):\n",
    "    print(f\"class {idx} accuracy:\", \"{:.4f} %\".format(pct*100))\n",
    "\n",
    "df_cm = pd.DataFrame(matrix, index = [str(i) for i in range(5)],\n",
    "                  columns = [str(i) for i in range(5)])\n",
    "\n",
    "plt.figure(figsize = (16,10))\n",
    "\n",
    "sn.heatmap(df_cm, annot=True, cmap='Blues', fmt='g')"
   ]
  },
  {
   "cell_type": "markdown",
   "metadata": {},
   "source": [
    "## Deep Learning"
   ]
  },
  {
   "cell_type": "markdown",
   "metadata": {},
   "source": [
    "### Deep Learning LSTM with OHLC (+ Volume)"
   ]
  },
  {
   "cell_type": "markdown",
   "metadata": {},
   "source": [
    "As a preprocessing of the Deep Learning approach, it regularized the OHLC values by window size 13 and divided the other 12 by the first element of the window. In this way, we can get a good sense of what movements have developed within the given period."
   ]
  },
  {
   "cell_type": "code",
   "execution_count": 70,
   "metadata": {
    "scrolled": true
   },
   "outputs": [
    {
     "data": {
      "application/vnd.jupyter.widget-view+json": {
       "model_id": "2b917f3e5017466f9f5c649e67d294aa",
       "version_major": 2,
       "version_minor": 0
      },
      "text/plain": [
       "  0%|          | 0/34298 [00:00<?, ?it/s]"
      ]
     },
     "metadata": {},
     "output_type": "display_data"
    },
    {
     "name": "stdout",
     "output_type": "stream",
     "text": [
      "(34298, 12, 5)\n",
      "(34298, 1)\n"
     ]
    }
   ],
   "source": [
    "dl_train1 = train_df.copy()\n",
    "\n",
    "params = np.array(dl_train1.drop([\"score\", \"timestamp\", \"class\", \"percs\"], axis=1).values)\n",
    "all_arr = list()\n",
    "for i in tqdm(range(13, len(params))):\n",
    "    all_arr.append((params[i-12:i]/params[i-13])-1)\n",
    "    \n",
    "x = np.array(all_arr)\n",
    "\n",
    "_y = np.array(dl_train1[[\"class\"]].values)\n",
    "\n",
    "y = _y\n",
    "\n",
    "x = x\n",
    "y = y[13:]\n",
    "\n",
    "print(np.shape(x))\n",
    "print(np.shape(y))"
   ]
  },
  {
   "cell_type": "code",
   "execution_count": 71,
   "metadata": {},
   "outputs": [],
   "source": [
    "# random shuffle\n",
    "import random\n",
    "from sklearn.model_selection import train_test_split\n",
    "\n",
    "random.seed(42)\n",
    "\n",
    "concat = list(zip(x,y))\n",
    "random.shuffle(concat)\n",
    "\n",
    "x, y = zip(*concat)\n",
    "X_train, X_test, y_train, y_test = train_test_split(x, y, test_size = 0.1, random_state = 42)\n",
    "X_train, X_test, y_train, y_test = np.array(X_train), np.array(X_test), np.array(y_train), np.array(y_test)\n",
    "\n",
    "## one-hot encoding\n",
    "a = y_train.reshape(-1)\n",
    "b = np.zeros((a.size, a.max()+1))\n",
    "b[np.arange(a.size),a] = 1\n",
    "y_train = b\n",
    "\n",
    "a = y_test.reshape(-1)\n",
    "b = np.zeros((a.size, a.max()+1))\n",
    "b[np.arange(a.size),a] = 1\n",
    "y_test = b"
   ]
  },
  {
   "cell_type": "code",
   "execution_count": 51,
   "metadata": {},
   "outputs": [],
   "source": [
    "from tensorflow.keras.layers import Input, LSTM, Dense, Dropout\n",
    "from tensorflow.keras.models import Model, Sequential\n",
    "from tensorflow.keras.optimizers import SGD, Adam, RMSprop\n",
    "from tensorflow.keras.callbacks import ModelCheckpoint\n",
    "from tensorflow.keras import regularizers\n",
    "import tensorflow.keras as keras\n",
    "\n",
    "r = 0\n",
    "T = 12\n",
    "D = 5\n",
    "\n",
    "model = Sequential()\n",
    "model.add(LSTM(units = 100, return_sequences = True, input_shape = (T,D)))\n",
    "model.add(Dropout(0.25))\n",
    "model.add(LSTM(units = 59))\n",
    "model.add(Dropout(0.18))\n",
    "model.add(Dense(units = 30))\n",
    "model.add(Dropout(0.1))\n",
    "model.add(Dense(units = 17))\n",
    "model.add(Dense(units = 5, activation='softmax'))"
   ]
  },
  {
   "cell_type": "code",
   "execution_count": 37,
   "metadata": {
    "scrolled": false
   },
   "outputs": [
    {
     "data": {
      "image/png": "[encoded data removed]",
      "text/plain": [
       "<IPython.core.display.Image object>"
      ]
     },
     "execution_count": 37,
     "metadata": {},
     "output_type": "execute_result"
    }
   ],
   "source": [
    "import tensorflow as tf\n",
    "tf.keras.utils.plot_model(model, to_file=\"./images/simple_lstm_12.png\", show_shapes=True)"
   ]
  },
  {
   "cell_type": "code",
   "execution_count": 38,
   "metadata": {
    "scrolled": true
   },
   "outputs": [
    {
     "name": "stdout",
     "output_type": "stream",
     "text": [
      "Epoch 1/30\n",
      "247/247 [==============================] - 81s 267ms/step - loss: 1.4539 - accuracy: 0.3433 - val_loss: 1.3964 - val_accuracy: 0.3787\n",
      "Epoch 2/30\n",
      "247/247 [==============================] - 64s 257ms/step - loss: 1.4017 - accuracy: 0.3693 - val_loss: 1.3259 - val_accuracy: 0.3950\n",
      "Epoch 3/30\n",
      "247/247 [==============================] - 60s 242ms/step - loss: 1.2360 - accuracy: 0.4398 - val_loss: 0.7873 - val_accuracy: 0.6636\n",
      "Epoch 4/30\n",
      "247/247 [==============================] - 61s 246ms/step - loss: 0.7880 - accuracy: 0.6573 - val_loss: 0.6286 - val_accuracy: 0.7382\n",
      "Epoch 5/30\n",
      "247/247 [==============================] - 59s 238ms/step - loss: 0.6849 - accuracy: 0.7043 - val_loss: 0.6000 - val_accuracy: 0.7461\n",
      "Epoch 6/30\n",
      "247/247 [==============================] - 61s 247ms/step - loss: 0.6307 - accuracy: 0.7307 - val_loss: 0.5667 - val_accuracy: 0.7507\n",
      "Epoch 7/30\n",
      "247/247 [==============================] - 58s 236ms/step - loss: 0.5988 - accuracy: 0.7435 - val_loss: 0.5320 - val_accuracy: 0.7831\n",
      "Epoch 8/30\n",
      "247/247 [==============================] - 61s 249ms/step - loss: 0.5764 - accuracy: 0.7509 - val_loss: 0.5050 - val_accuracy: 0.7942\n",
      "Epoch 9/30\n",
      "247/247 [==============================] - 60s 243ms/step - loss: 0.5573 - accuracy: 0.7630 - val_loss: 0.4938 - val_accuracy: 0.7971\n",
      "Epoch 10/30\n",
      "247/247 [==============================] - 60s 244ms/step - loss: 0.5505 - accuracy: 0.7699 - val_loss: 0.4847 - val_accuracy: 0.7985\n",
      "Epoch 11/30\n",
      "247/247 [==============================] - 58s 236ms/step - loss: 0.5378 - accuracy: 0.7684 - val_loss: 0.4757 - val_accuracy: 0.8073\n",
      "Epoch 12/30\n",
      "247/247 [==============================] - 65s 262ms/step - loss: 0.5248 - accuracy: 0.7783 - val_loss: 0.4649 - val_accuracy: 0.8102\n",
      "Epoch 13/30\n",
      "247/247 [==============================] - 63s 257ms/step - loss: 0.5217 - accuracy: 0.7811 - val_loss: 0.4607 - val_accuracy: 0.8122\n",
      "Epoch 14/30\n",
      "247/247 [==============================] - 65s 261ms/step - loss: 0.5278 - accuracy: 0.7775 - val_loss: 0.4866 - val_accuracy: 0.7933\n",
      "Epoch 15/30\n",
      "247/247 [==============================] - 64s 259ms/step - loss: 0.5025 - accuracy: 0.7871 - val_loss: 0.4677 - val_accuracy: 0.8052\n",
      "Epoch 16/30\n",
      "247/247 [==============================] - 61s 247ms/step - loss: 0.5213 - accuracy: 0.7800 - val_loss: 0.4572 - val_accuracy: 0.8064\n",
      "Epoch 17/30\n",
      "247/247 [==============================] - 61s 248ms/step - loss: 0.4991 - accuracy: 0.7954 - val_loss: 0.4527 - val_accuracy: 0.8120\n",
      "Epoch 18/30\n",
      "247/247 [==============================] - 65s 262ms/step - loss: 0.4951 - accuracy: 0.7900 - val_loss: 0.4497 - val_accuracy: 0.8166\n",
      "Epoch 19/30\n",
      "247/247 [==============================] - 63s 257ms/step - loss: 0.5069 - accuracy: 0.7879 - val_loss: 0.4590 - val_accuracy: 0.8093\n",
      "Epoch 20/30\n",
      "247/247 [==============================] - 56s 225ms/step - loss: 0.4981 - accuracy: 0.7895 - val_loss: 0.4483 - val_accuracy: 0.8157\n",
      "Epoch 21/30\n",
      "247/247 [==============================] - 50s 203ms/step - loss: 0.4966 - accuracy: 0.7917 - val_loss: 0.4553 - val_accuracy: 0.8122\n",
      "Epoch 22/30\n",
      "247/247 [==============================] - 50s 203ms/step - loss: 0.4944 - accuracy: 0.7953 - val_loss: 0.4498 - val_accuracy: 0.8108\n",
      "Epoch 23/30\n",
      "247/247 [==============================] - 49s 197ms/step - loss: 0.4880 - accuracy: 0.7940 - val_loss: 0.4518 - val_accuracy: 0.8201\n",
      "Epoch 24/30\n",
      "247/247 [==============================] - 52s 209ms/step - loss: 0.5030 - accuracy: 0.7895 - val_loss: 0.4495 - val_accuracy: 0.8155\n",
      "Epoch 25/30\n",
      "247/247 [==============================] - 50s 203ms/step - loss: 0.4922 - accuracy: 0.7950 - val_loss: 0.4586 - val_accuracy: 0.8082\n",
      "Epoch 26/30\n",
      "247/247 [==============================] - 50s 201ms/step - loss: 0.4911 - accuracy: 0.7985 - val_loss: 0.4451 - val_accuracy: 0.8210\n",
      "Epoch 27/30\n",
      "247/247 [==============================] - 51s 208ms/step - loss: 0.4931 - accuracy: 0.7941 - val_loss: 0.4525 - val_accuracy: 0.8146\n",
      "Epoch 28/30\n",
      "247/247 [==============================] - 50s 201ms/step - loss: 0.4989 - accuracy: 0.7903 - val_loss: 0.4463 - val_accuracy: 0.8155\n",
      "Epoch 29/30\n",
      "247/247 [==============================] - 52s 211ms/step - loss: 0.4808 - accuracy: 0.7985 - val_loss: 0.4560 - val_accuracy: 0.8111\n",
      "Epoch 30/30\n",
      "247/247 [==============================] - 49s 199ms/step - loss: 0.4922 - accuracy: 0.7936 - val_loss: 0.4427 - val_accuracy: 0.8224\n"
     ]
    },
    {
     "name": "stderr",
     "output_type": "stream",
     "text": [
      "WARNING:absl:Found untraced functions such as lstm_cell_layer_call_and_return_conditional_losses, lstm_cell_layer_call_fn, lstm_cell_1_layer_call_and_return_conditional_losses, lstm_cell_1_layer_call_fn, lstm_cell_layer_call_fn while saving (showing 5 of 10). These functions will not be directly callable after loading.\n",
      "WARNING:absl:Found untraced functions such as lstm_cell_layer_call_and_return_conditional_losses, lstm_cell_layer_call_fn, lstm_cell_1_layer_call_and_return_conditional_losses, lstm_cell_1_layer_call_fn, lstm_cell_layer_call_fn while saving (showing 5 of 10). These functions will not be directly callable after loading.\n"
     ]
    },
    {
     "name": "stdout",
     "output_type": "stream",
     "text": [
      "INFO:tensorflow:Assets written to: ./models/simple_lstm_12/assets\n"
     ]
    },
    {
     "name": "stderr",
     "output_type": "stream",
     "text": [
      "INFO:tensorflow:Assets written to: ./models/simple_lstm_12/assets\n"
     ]
    }
   ],
   "source": [
    "model.compile(loss='categorical_crossentropy', optimizer='adam', metrics=['accuracy'])\n",
    "\n",
    "checkpoint_filepath = './tmp/simple_lstm_12'\n",
    "model_checkpoint_callback = ModelCheckpoint(\n",
    "    filepath = checkpoint_filepath,\n",
    "    save_weights_only = True,\n",
    "    monitor = 'val_accuracy',\n",
    "    mode = 'max',\n",
    "    save_best_only = True)\n",
    "\n",
    "cutpoint = -int(len(X_train)*0.2)\n",
    "\n",
    "r = model.fit(X_train[:cutpoint], y_train[:cutpoint],\n",
    "              validation_data=(X_test[cutpoint:], y_test[cutpoint:]), \n",
    "              epochs = 30, batch_size = 100, \n",
    "              callbacks=[model_checkpoint_callback])\n",
    "\n",
    "model.load_weights(checkpoint_filepath)\n",
    "model.save('./models/simple_lstm_12')"
   ]
  },
  {
   "cell_type": "code",
   "execution_count": 73,
   "metadata": {},
   "outputs": [
    {
     "name": "stdout",
     "output_type": "stream",
     "text": [
      "Overall accuracy:  0.8224489795918367 \n",
      "\n",
      "class 0 accuracy: 74.0260 %\n",
      "class 1 accuracy: 83.0149 %\n",
      "class 2 accuracy: 85.2194 %\n",
      "class 3 accuracy: 80.4124 %\n",
      "class 4 accuracy: 75.2747 %\n"
     ]
    },
    {
     "data": {
      "text/plain": [
       "<AxesSubplot:>"
      ]
     },
     "execution_count": 73,
     "metadata": {},
     "output_type": "execute_result"
    },
    {
     "data": {
      "image/png": "[encoded data removed]",
      "text/plain": [
       "<Figure size 1152x720 with 2 Axes>"
      ]
     },
     "metadata": {
      "needs_background": "light"
     },
     "output_type": "display_data"
    }
   ],
   "source": [
    "from sklearn.metrics import confusion_matrix\n",
    "from sklearn.metrics import accuracy_score\n",
    "from tensorflow import keras\n",
    "\n",
    "model = keras.models.load_model('./models/simple_lstm_12')\n",
    "\n",
    "y_pred1 = model.predict(X_test)\n",
    "print(\"Overall accuracy: \",\n",
    "      accuracy_score(relabel_prediction(y_test.argmax(axis=1)), relabel_prediction(y_pred1.argmax(axis=1))), \"\\n\")\n",
    "\n",
    "matrix = confusion_matrix(y_test.argmax(axis=1), y_pred1.argmax(axis=1))\n",
    "\n",
    "class_percentages = matrix.astype('float') / matrix.sum(axis=1)[:, np.newaxis]\n",
    "for idx, pct in enumerate(class_percentages.diagonal()):\n",
    "    print(f\"class {idx} accuracy:\", \"{:.4f} %\".format(pct*100))\n",
    "\n",
    "df_cm = pd.DataFrame(matrix, index = [str(i) for i in range(5)],\n",
    "                  columns = [str(i) for i in range(5)])\n",
    "plt.figure(figsize = (16,10))\n",
    "sn.heatmap(df_cm, annot=True, cmap='Blues', fmt='g')"
   ]
  },
  {
   "cell_type": "markdown",
   "metadata": {},
   "source": [
    "### Deep Learning LSTM with OHLC (+ Volume) and Trades info"
   ]
  },
  {
   "cell_type": "markdown",
   "metadata": {},
   "source": [
    "Compared to the above OHLC data, I also provided additional information to the network by importing Trade data. What change had to be made for more effective teaching was that the Sentiment Weighted Average had to be divided into two columns: the value of sentiment (0, -1), and the value of price; all in order for the previous windowsize regulation of 13 to work properly."
   ]
  },
  {
   "cell_type": "code",
   "execution_count": 74,
   "metadata": {},
   "outputs": [
    {
     "data": {
      "application/vnd.jupyter.widget-view+json": {
       "model_id": "f136e8d1a08142c8b2c550219fd47c84",
       "version_major": 2,
       "version_minor": 0
      },
      "text/plain": [
       "  0%|          | 0/34620 [00:00<?, ?it/s]"
      ]
     },
     "metadata": {},
     "output_type": "display_data"
    },
    {
     "name": "stdout",
     "output_type": "stream",
     "text": [
      "(34620, 12, 9)\n",
      "(34620, 1)\n"
     ]
    }
   ],
   "source": [
    "dl_train2 = train_df.copy()\n",
    "\n",
    "trades_df = pd.read_csv(\"./aggregated_data/5s_trades_all.csv\")\n",
    "trades_df.drop([\"Unnamed: 0\"], axis=1, inplace=True)\n",
    "\n",
    "dl_train2 = pd.merge(dl_train2, trades_df, on=\"timestamp\")\n",
    "\n",
    "dl_train2[\"sentiment\"] = \\\n",
    "(dl_train2[\"sentiment_weighted_avg_price\"]>=1).astype(int).replace(0, -1)\n",
    "\n",
    "dl_train2[\"sentiment_weighted_avg_price\"] = np.abs(dl_train2[\"sentiment_weighted_avg_price\"])\n",
    "\n",
    "def windowed_value(wind_13):\n",
    "    first = wind_13[0][:-1]\n",
    "    whole =  wind_13[1:,:-1]\n",
    "    side_values = np.array([i[-1] for i in wind_13])[1:]\n",
    "    regularized = (whole/first)-1\n",
    "    return np.hstack((regularized, side_values.reshape(-1,1)))\n",
    "\n",
    "\n",
    "params = np.array(dl_train2.drop([\"score\", \"timestamp\", \"class\", \"percs\"], axis=1).values)\n",
    "all_arr = list()\n",
    "for i in tqdm(range(13, len(params))):\n",
    "    all_arr.append(windowed_value(params[i-13:i]))\n",
    "\n",
    "x = np.array(all_arr)\n",
    "\n",
    "_y = np.array(dl_train2[[\"class\"]].values)\n",
    "\n",
    "y = _y\n",
    "\n",
    "x = x\n",
    "y = y[13:]\n",
    "\n",
    "print(np.shape(x))\n",
    "print(np.shape(y))"
   ]
  },
  {
   "cell_type": "code",
   "execution_count": 75,
   "metadata": {},
   "outputs": [],
   "source": [
    "# random shuffle\n",
    "import random\n",
    "from sklearn.model_selection import train_test_split\n",
    "\n",
    "random.seed(42)\n",
    "\n",
    "concat = list(zip(x,y))\n",
    "random.shuffle(concat)\n",
    "\n",
    "x, y = zip(*concat)\n",
    "X_train, X_test, y_train, y_test = train_test_split(x, y, test_size = 0.1, random_state = 42)\n",
    "X_train, X_test, y_train, y_test = np.array(X_train), np.array(X_test), np.array(y_train), np.array(y_test)\n",
    "\n",
    "## one-hot encoding\n",
    "a = y_train.reshape(-1)\n",
    "b = np.zeros((a.size, a.max()+1))\n",
    "b[np.arange(a.size),a] = 1\n",
    "y_train = b\n",
    "\n",
    "a = y_test.reshape(-1)\n",
    "b = np.zeros((a.size, a.max()+1))\n",
    "b[np.arange(a.size),a] = 1\n",
    "y_test = b"
   ]
  },
  {
   "cell_type": "code",
   "execution_count": 42,
   "metadata": {},
   "outputs": [],
   "source": [
    "from tensorflow.keras.layers import Input, LSTM, Dense, Dropout\n",
    "from tensorflow.keras.models import Model, Sequential\n",
    "from tensorflow.keras.optimizers import SGD, Adam, RMSprop\n",
    "from tensorflow.keras.callbacks import ModelCheckpoint\n",
    "from tensorflow.keras import regularizers\n",
    "import tensorflow.keras as keras\n",
    "\n",
    "r = 0\n",
    "T = 12\n",
    "D = 9\n",
    "\n",
    "model = Sequential()\n",
    "model.add(LSTM(units = 100, return_sequences = True, input_shape = (T,D)))\n",
    "model.add(Dropout(0.25))\n",
    "model.add(LSTM(units = 59))\n",
    "model.add(Dropout(0.18))\n",
    "model.add(Dense(units = 30))\n",
    "model.add(Dropout(0.1))\n",
    "model.add(Dense(units = 17))\n",
    "model.add(Dense(units = 5, activation='softmax'))"
   ]
  },
  {
   "cell_type": "code",
   "execution_count": 43,
   "metadata": {},
   "outputs": [
    {
     "data": {
      "image/png": "[encoded data removed]",
      "text/plain": [
       "<IPython.core.display.Image object>"
      ]
     },
     "execution_count": 43,
     "metadata": {},
     "output_type": "execute_result"
    }
   ],
   "source": [
    "import tensorflow as tf\n",
    "tf.keras.utils.plot_model(model, to_file=\"./images/simple_lstm_with_trades_12.png\", show_shapes=True)"
   ]
  },
  {
   "cell_type": "code",
   "execution_count": 44,
   "metadata": {
    "scrolled": true
   },
   "outputs": [
    {
     "name": "stdout",
     "output_type": "stream",
     "text": [
      "Epoch 1/30\n",
      "250/250 [==============================] - 83s 268ms/step - loss: 1.4428 - accuracy: 0.3403 - val_loss: 1.3776 - val_accuracy: 0.3746\n",
      "Epoch 2/30\n",
      "250/250 [==============================] - 49s 196ms/step - loss: 1.3805 - accuracy: 0.3729 - val_loss: 1.3497 - val_accuracy: 0.3798\n",
      "Epoch 3/30\n",
      "250/250 [==============================] - 47s 187ms/step - loss: 1.3368 - accuracy: 0.3852 - val_loss: 1.1221 - val_accuracy: 0.5075\n",
      "Epoch 4/30\n",
      "250/250 [==============================] - 49s 196ms/step - loss: 1.0750 - accuracy: 0.5189 - val_loss: 0.8142 - val_accuracy: 0.6505\n",
      "Epoch 5/30\n",
      "250/250 [==============================] - 49s 194ms/step - loss: 0.8217 - accuracy: 0.6406 - val_loss: 0.6802 - val_accuracy: 0.7117\n",
      "Epoch 6/30\n",
      "250/250 [==============================] - 50s 199ms/step - loss: 0.7370 - accuracy: 0.6791 - val_loss: 0.6625 - val_accuracy: 0.7100\n",
      "Epoch 7/30\n",
      "250/250 [==============================] - 48s 190ms/step - loss: 0.6603 - accuracy: 0.7154 - val_loss: 0.6033 - val_accuracy: 0.7470\n",
      "Epoch 8/30\n",
      "250/250 [==============================] - 49s 194ms/step - loss: 0.6392 - accuracy: 0.7250 - val_loss: 0.5768 - val_accuracy: 0.7629\n",
      "Epoch 9/30\n",
      "250/250 [==============================] - 48s 190ms/step - loss: 0.6217 - accuracy: 0.7344 - val_loss: 0.5554 - val_accuracy: 0.7779\n",
      "Epoch 10/30\n",
      "250/250 [==============================] - 49s 196ms/step - loss: 0.5942 - accuracy: 0.7475 - val_loss: 0.5427 - val_accuracy: 0.7761\n",
      "Epoch 11/30\n",
      "250/250 [==============================] - 58s 230ms/step - loss: 0.5901 - accuracy: 0.7447 - val_loss: 0.5430 - val_accuracy: 0.7744\n",
      "Epoch 12/30\n",
      "250/250 [==============================] - 49s 195ms/step - loss: 0.5663 - accuracy: 0.7571 - val_loss: 0.5377 - val_accuracy: 0.7629\n",
      "Epoch 13/30\n",
      "250/250 [==============================] - 47s 189ms/step - loss: 0.5683 - accuracy: 0.7573 - val_loss: 0.5384 - val_accuracy: 0.7718\n",
      "Epoch 14/30\n",
      "250/250 [==============================] - 52s 209ms/step - loss: 0.5503 - accuracy: 0.7670 - val_loss: 0.5026 - val_accuracy: 0.7946\n",
      "Epoch 15/30\n",
      "250/250 [==============================] - 49s 194ms/step - loss: 0.5386 - accuracy: 0.7681 - val_loss: 0.5078 - val_accuracy: 0.7917\n",
      "Epoch 16/30\n",
      "250/250 [==============================] - 48s 191ms/step - loss: 0.5359 - accuracy: 0.7688 - val_loss: 0.5017 - val_accuracy: 0.7935\n",
      "Epoch 17/30\n",
      "250/250 [==============================] - 46s 184ms/step - loss: 0.5319 - accuracy: 0.7719 - val_loss: 0.5122 - val_accuracy: 0.7816\n",
      "Epoch 18/30\n",
      "250/250 [==============================] - 49s 197ms/step - loss: 0.5313 - accuracy: 0.7732 - val_loss: 0.4969 - val_accuracy: 0.7920\n",
      "Epoch 19/30\n",
      "250/250 [==============================] - 49s 196ms/step - loss: 0.5310 - accuracy: 0.7729 - val_loss: 0.5006 - val_accuracy: 0.7952\n",
      "Epoch 20/30\n",
      "250/250 [==============================] - 50s 200ms/step - loss: 0.5238 - accuracy: 0.7821 - val_loss: 0.4847 - val_accuracy: 0.8007\n",
      "Epoch 21/30\n",
      "250/250 [==============================] - 47s 187ms/step - loss: 0.5143 - accuracy: 0.7817 - val_loss: 0.5072 - val_accuracy: 0.7787\n",
      "Epoch 22/30\n",
      "250/250 [==============================] - 47s 187ms/step - loss: 0.5235 - accuracy: 0.7759 - val_loss: 0.4931 - val_accuracy: 0.7952\n",
      "Epoch 23/30\n",
      "250/250 [==============================] - 48s 192ms/step - loss: 0.5232 - accuracy: 0.7769 - val_loss: 0.4891 - val_accuracy: 0.7990\n",
      "Epoch 24/30\n",
      "250/250 [==============================] - 48s 193ms/step - loss: 0.5205 - accuracy: 0.7774 - val_loss: 0.4865 - val_accuracy: 0.7969\n",
      "Epoch 25/30\n",
      "250/250 [==============================] - 47s 188ms/step - loss: 0.5121 - accuracy: 0.7841 - val_loss: 0.4932 - val_accuracy: 0.7975\n",
      "Epoch 26/30\n",
      "250/250 [==============================] - 48s 191ms/step - loss: 0.5062 - accuracy: 0.7890 - val_loss: 0.4792 - val_accuracy: 0.8094\n",
      "Epoch 27/30\n",
      "250/250 [==============================] - 49s 194ms/step - loss: 0.5072 - accuracy: 0.7874 - val_loss: 0.4981 - val_accuracy: 0.7831\n",
      "Epoch 28/30\n",
      "250/250 [==============================] - 45s 181ms/step - loss: 0.5061 - accuracy: 0.7882 - val_loss: 0.4903 - val_accuracy: 0.7972\n",
      "Epoch 29/30\n",
      "250/250 [==============================] - 52s 209ms/step - loss: 0.4973 - accuracy: 0.7915 - val_loss: 0.5054 - val_accuracy: 0.7860\n",
      "Epoch 30/30\n",
      "250/250 [==============================] - 53s 213ms/step - loss: 0.5051 - accuracy: 0.7849 - val_loss: 0.4893 - val_accuracy: 0.8039\n"
     ]
    },
    {
     "name": "stderr",
     "output_type": "stream",
     "text": [
      "WARNING:absl:Found untraced functions such as lstm_cell_4_layer_call_and_return_conditional_losses, lstm_cell_4_layer_call_fn, lstm_cell_5_layer_call_and_return_conditional_losses, lstm_cell_5_layer_call_fn, lstm_cell_4_layer_call_fn while saving (showing 5 of 10). These functions will not be directly callable after loading.\n",
      "WARNING:absl:Found untraced functions such as lstm_cell_4_layer_call_and_return_conditional_losses, lstm_cell_4_layer_call_fn, lstm_cell_5_layer_call_and_return_conditional_losses, lstm_cell_5_layer_call_fn, lstm_cell_4_layer_call_fn while saving (showing 5 of 10). These functions will not be directly callable after loading.\n"
     ]
    },
    {
     "name": "stdout",
     "output_type": "stream",
     "text": [
      "INFO:tensorflow:Assets written to: ./models/simple_lstm_with_trades_12/assets\n"
     ]
    },
    {
     "name": "stderr",
     "output_type": "stream",
     "text": [
      "INFO:tensorflow:Assets written to: ./models/simple_lstm_with_trades_12/assets\n"
     ]
    }
   ],
   "source": [
    "model.compile(loss='categorical_crossentropy', optimizer='adam', metrics=['accuracy'])\n",
    "\n",
    "# opt = RMSprop(learning_rate=0.005, momentum=0.9, clipnorm=1.0)\n",
    "# model.compile(optimizer = opt, loss = 'mean_squared_error')# Fitting the RNN to the Training set\n",
    "\n",
    "checkpoint_filepath = './tmp/simple_lstm_with_trades_12'\n",
    "model_checkpoint_callback = ModelCheckpoint(\n",
    "    filepath = checkpoint_filepath,\n",
    "    save_weights_only = True,\n",
    "    monitor = 'val_accuracy',\n",
    "    mode = 'max',\n",
    "    save_best_only = True)\n",
    "\n",
    "cutpoint = -int(len(X_train)*0.2)\n",
    "\n",
    "r = model.fit(X_train[:cutpoint], y_train[:cutpoint],\n",
    "              validation_data=(X_test[cutpoint:], y_test[cutpoint:]), \n",
    "              epochs = 30, batch_size = 100, \n",
    "              callbacks=[model_checkpoint_callback])\n",
    "\n",
    "model.load_weights(checkpoint_filepath)\n",
    "model.save('./models/simple_lstm_with_trades_12')"
   ]
  },
  {
   "cell_type": "code",
   "execution_count": 77,
   "metadata": {},
   "outputs": [
    {
     "name": "stdout",
     "output_type": "stream",
     "text": [
      "Overall accuracy:  0.8093587521663779 \n",
      "\n",
      "class 0 accuracy: 77.3504 %\n",
      "class 1 accuracy: 77.1072 %\n",
      "class 2 accuracy: 85.6138 %\n",
      "class 3 accuracy: 81.3896 %\n",
      "class 4 accuracy: 70.8791 %\n"
     ]
    },
    {
     "data": {
      "text/plain": [
       "<AxesSubplot:>"
      ]
     },
     "execution_count": 77,
     "metadata": {},
     "output_type": "execute_result"
    },
    {
     "data": {
      "image/png": "[encoded data removed]",
      "text/plain": [
       "<Figure size 1152x720 with 2 Axes>"
      ]
     },
     "metadata": {
      "needs_background": "light"
     },
     "output_type": "display_data"
    }
   ],
   "source": [
    "from sklearn.metrics import confusion_matrix\n",
    "from sklearn.metrics import accuracy_score\n",
    "from tensorflow import keras\n",
    "\n",
    "model = keras.models.load_model('./models/simple_lstm_with_trades_12')\n",
    "\n",
    "y_pred_2 = model.predict(X_test)\n",
    "print(\"Overall accuracy: \",\n",
    "      accuracy_score(relabel_prediction(y_test.argmax(axis=1)), relabel_prediction(y_pred_2.argmax(axis=1))), \"\\n\")\n",
    "\n",
    "matrix = confusion_matrix(y_test.argmax(axis=1), y_pred_2.argmax(axis=1))\n",
    "\n",
    "class_percentages = matrix.astype('float') / matrix.sum(axis=1)[:, np.newaxis]\n",
    "for idx, pct in enumerate(class_percentages.diagonal()):\n",
    "    print(f\"class {idx} accuracy:\", \"{:.4f} %\".format(pct*100))\n",
    "\n",
    "df_cm = pd.DataFrame(matrix, index = [str(i) for i in range(5)],\n",
    "                  columns = [str(i) for i in range(5)])\n",
    "plt.figure(figsize = (16,10))\n",
    "sn.heatmap(df_cm, annot=True, cmap='Blues', fmt='g')"
   ]
  }
 ],
 "metadata": {
  "kernelspec": {
   "display_name": "Python 3",
   "language": "python",
   "name": "python3"
  },
  "language_info": {
   "codemirror_mode": {
    "name": "ipython",
    "version": 3
   },
   "file_extension": ".py",
   "mimetype": "text/x-python",
   "name": "python",
   "nbconvert_exporter": "python",
   "pygments_lexer": "ipython3",
   "version": "3.7.10"
  }
 },
 "nbformat": 4,
 "nbformat_minor": 4
}
