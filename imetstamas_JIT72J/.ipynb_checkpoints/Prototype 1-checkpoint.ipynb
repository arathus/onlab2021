{
 "cells": [
  {
   "cell_type": "code",
   "execution_count": 65,
   "metadata": {},
   "outputs": [],
   "source": [
    "import pandas as pd\n",
    "from sklearn.model_selection import train_test_split\n",
    "import numpy as np\n",
    "from tqdm.auto import tqdm\n",
    "import matplotlib.pyplot as plt\n",
    "from sklearn.preprocessing import StandardScaler"
   ]
  },
  {
   "cell_type": "markdown",
   "metadata": {},
   "source": [
    "# Preparing the Data\n",
    "\n",
    "The ANN needs a little bit more tweaking before training. For this purpose I created a new pipeline. "
   ]
  },
  {
   "cell_type": "code",
   "execution_count": 89,
   "metadata": {},
   "outputs": [],
   "source": [
    "data = pd.read_csv('data/labeled.csv')"
   ]
  },
  {
   "cell_type": "code",
   "execution_count": 90,
   "metadata": {},
   "outputs": [],
   "source": [
    "buy_signals = data.drop(data[data.position < 0].index)\n",
    "sell_signals = data.drop(data[data.position > 0].index)\n"
   ]
  },
  {
   "cell_type": "code",
   "execution_count": 91,
   "metadata": {},
   "outputs": [],
   "source": [
    "X = buy_signals.drop(['position', 'date', 'timestamp', 'days', 'midch', 'askvolch', 'bidvolch', 'change', 'midch', 'ask', 'bid'], axis=1).dropna().reset_index().drop('index', axis=1)\n",
    "y = buy_signals.drop(['date', 'timestamp', 'days'], axis=1).dropna().reset_index()['position']"
   ]
  },
  {
   "cell_type": "markdown",
   "metadata": {},
   "source": [
    "# Goal Structure\n",
    "\n",
    "**X:** samples of multiple previous instances.  \n",
    ">`ask levels`  \n",
    "`bid levels`   \n",
    "`price`   \n",
    "`total volume`  \n",
    "`trendline`  \n",
    "`cross signal`  \n",
    "\n",
    "Organized into a `10 x (size of X) - 10` matrix, normalized by the first value of each column.\n",
    " \n",
    "**y:** binary label of entry or exit signals. \n",
    " \n",
    "model: two separate models for entry and exit signals for anomaly detection. Optimization with hyperopt."
   ]
  },
  {
   "cell_type": "code",
   "execution_count": 93,
   "metadata": {},
   "outputs": [
    {
     "data": {
      "text/plain": [
       "0         0.0\n",
       "1         0.0\n",
       "2         0.0\n",
       "3         0.0\n",
       "4         0.0\n",
       "         ... \n",
       "169984    0.0\n",
       "169985    0.0\n",
       "169986    0.0\n",
       "169987    0.0\n",
       "169988    0.0\n",
       "Name: position, Length: 169989, dtype: float64"
      ]
     },
     "execution_count": 93,
     "metadata": {},
     "output_type": "execute_result"
    }
   ],
   "source": [
    "y"
   ]
  },
  {
   "cell_type": "code",
   "execution_count": 94,
   "metadata": {},
   "outputs": [
    {
     "data": {
      "text/html": [
       "<div>\n",
       "<style scoped>\n",
       "    .dataframe tbody tr th:only-of-type {\n",
       "        vertical-align: middle;\n",
       "    }\n",
       "\n",
       "    .dataframe tbody tr th {\n",
       "        vertical-align: top;\n",
       "    }\n",
       "\n",
       "    .dataframe thead th {\n",
       "        text-align: right;\n",
       "    }\n",
       "</style>\n",
       "<table border=\"1\" class=\"dataframe\">\n",
       "  <thead>\n",
       "    <tr style=\"text-align: right;\">\n",
       "      <th></th>\n",
       "      <th>askvol</th>\n",
       "      <th>bidvol</th>\n",
       "      <th>ask10</th>\n",
       "      <th>ask20</th>\n",
       "      <th>ask30</th>\n",
       "      <th>ask40</th>\n",
       "      <th>ask50</th>\n",
       "      <th>ask60</th>\n",
       "      <th>ask70</th>\n",
       "      <th>ask80</th>\n",
       "      <th>...</th>\n",
       "      <th>bid150</th>\n",
       "      <th>bid160</th>\n",
       "      <th>bid170</th>\n",
       "      <th>bid180</th>\n",
       "      <th>bid190</th>\n",
       "      <th>bid200</th>\n",
       "      <th>mid</th>\n",
       "      <th>trendline</th>\n",
       "      <th>cross_bidvol</th>\n",
       "      <th>cross_askvol</th>\n",
       "    </tr>\n",
       "  </thead>\n",
       "  <tbody>\n",
       "    <tr>\n",
       "      <th>0</th>\n",
       "      <td>252.541256</td>\n",
       "      <td>415.246658</td>\n",
       "      <td>0.972579</td>\n",
       "      <td>0.000000</td>\n",
       "      <td>2.324742</td>\n",
       "      <td>0.000000</td>\n",
       "      <td>0.000000</td>\n",
       "      <td>0.00000</td>\n",
       "      <td>0.00000</td>\n",
       "      <td>0.000000</td>\n",
       "      <td>...</td>\n",
       "      <td>0.0</td>\n",
       "      <td>0.0</td>\n",
       "      <td>0.0</td>\n",
       "      <td>0.0</td>\n",
       "      <td>0.0</td>\n",
       "      <td>0.0</td>\n",
       "      <td>47438.375</td>\n",
       "      <td>47435.910208</td>\n",
       "      <td>False</td>\n",
       "      <td>False</td>\n",
       "    </tr>\n",
       "    <tr>\n",
       "      <th>1</th>\n",
       "      <td>3.296665</td>\n",
       "      <td>42.048326</td>\n",
       "      <td>0.511630</td>\n",
       "      <td>0.557705</td>\n",
       "      <td>0.928427</td>\n",
       "      <td>0.000000</td>\n",
       "      <td>0.000000</td>\n",
       "      <td>0.00000</td>\n",
       "      <td>0.00000</td>\n",
       "      <td>0.000000</td>\n",
       "      <td>...</td>\n",
       "      <td>0.0</td>\n",
       "      <td>0.0</td>\n",
       "      <td>0.0</td>\n",
       "      <td>0.0</td>\n",
       "      <td>0.0</td>\n",
       "      <td>0.0</td>\n",
       "      <td>47438.015</td>\n",
       "      <td>47436.226917</td>\n",
       "      <td>True</td>\n",
       "      <td>False</td>\n",
       "    </tr>\n",
       "    <tr>\n",
       "      <th>2</th>\n",
       "      <td>4.381000</td>\n",
       "      <td>4.861449</td>\n",
       "      <td>0.789145</td>\n",
       "      <td>2.859879</td>\n",
       "      <td>0.189658</td>\n",
       "      <td>0.070000</td>\n",
       "      <td>0.000000</td>\n",
       "      <td>0.07089</td>\n",
       "      <td>0.00000</td>\n",
       "      <td>0.000000</td>\n",
       "      <td>...</td>\n",
       "      <td>0.0</td>\n",
       "      <td>0.0</td>\n",
       "      <td>0.0</td>\n",
       "      <td>0.0</td>\n",
       "      <td>0.0</td>\n",
       "      <td>0.0</td>\n",
       "      <td>47435.595</td>\n",
       "      <td>47436.481083</td>\n",
       "      <td>False</td>\n",
       "      <td>False</td>\n",
       "    </tr>\n",
       "    <tr>\n",
       "      <th>3</th>\n",
       "      <td>123.175592</td>\n",
       "      <td>13.444089</td>\n",
       "      <td>1.233048</td>\n",
       "      <td>0.601328</td>\n",
       "      <td>2.037656</td>\n",
       "      <td>0.310918</td>\n",
       "      <td>0.077720</td>\n",
       "      <td>0.00000</td>\n",
       "      <td>0.01265</td>\n",
       "      <td>0.315596</td>\n",
       "      <td>...</td>\n",
       "      <td>0.0</td>\n",
       "      <td>0.0</td>\n",
       "      <td>0.0</td>\n",
       "      <td>0.0</td>\n",
       "      <td>0.0</td>\n",
       "      <td>0.0</td>\n",
       "      <td>47431.115</td>\n",
       "      <td>47436.741042</td>\n",
       "      <td>False</td>\n",
       "      <td>True</td>\n",
       "    </tr>\n",
       "    <tr>\n",
       "      <th>4</th>\n",
       "      <td>3.329348</td>\n",
       "      <td>7.852581</td>\n",
       "      <td>1.695791</td>\n",
       "      <td>0.181499</td>\n",
       "      <td>0.000000</td>\n",
       "      <td>0.105338</td>\n",
       "      <td>0.098619</td>\n",
       "      <td>1.00000</td>\n",
       "      <td>0.00000</td>\n",
       "      <td>0.000000</td>\n",
       "      <td>...</td>\n",
       "      <td>0.0</td>\n",
       "      <td>0.0</td>\n",
       "      <td>0.0</td>\n",
       "      <td>0.0</td>\n",
       "      <td>0.0</td>\n",
       "      <td>0.0</td>\n",
       "      <td>47431.445</td>\n",
       "      <td>47437.003042</td>\n",
       "      <td>False</td>\n",
       "      <td>False</td>\n",
       "    </tr>\n",
       "  </tbody>\n",
       "</table>\n",
       "<p>5 rows × 46 columns</p>\n",
       "</div>"
      ],
      "text/plain": [
       "       askvol      bidvol     ask10     ask20     ask30     ask40     ask50  \\\n",
       "0  252.541256  415.246658  0.972579  0.000000  2.324742  0.000000  0.000000   \n",
       "1    3.296665   42.048326  0.511630  0.557705  0.928427  0.000000  0.000000   \n",
       "2    4.381000    4.861449  0.789145  2.859879  0.189658  0.070000  0.000000   \n",
       "3  123.175592   13.444089  1.233048  0.601328  2.037656  0.310918  0.077720   \n",
       "4    3.329348    7.852581  1.695791  0.181499  0.000000  0.105338  0.098619   \n",
       "\n",
       "     ask60    ask70     ask80  ...  bid150  bid160  bid170  bid180  bid190  \\\n",
       "0  0.00000  0.00000  0.000000  ...     0.0     0.0     0.0     0.0     0.0   \n",
       "1  0.00000  0.00000  0.000000  ...     0.0     0.0     0.0     0.0     0.0   \n",
       "2  0.07089  0.00000  0.000000  ...     0.0     0.0     0.0     0.0     0.0   \n",
       "3  0.00000  0.01265  0.315596  ...     0.0     0.0     0.0     0.0     0.0   \n",
       "4  1.00000  0.00000  0.000000  ...     0.0     0.0     0.0     0.0     0.0   \n",
       "\n",
       "   bid200        mid     trendline  cross_bidvol  cross_askvol  \n",
       "0     0.0  47438.375  47435.910208         False         False  \n",
       "1     0.0  47438.015  47436.226917          True         False  \n",
       "2     0.0  47435.595  47436.481083         False         False  \n",
       "3     0.0  47431.115  47436.741042         False          True  \n",
       "4     0.0  47431.445  47437.003042         False         False  \n",
       "\n",
       "[5 rows x 46 columns]"
      ]
     },
     "execution_count": 94,
     "metadata": {},
     "output_type": "execute_result"
    }
   ],
   "source": [
    "X.head()"
   ]
  },
  {
   "cell_type": "code",
   "execution_count": 95,
   "metadata": {},
   "outputs": [
    {
     "data": {
      "application/vnd.jupyter.widget-view+json": {
       "model_id": "95ce65186cbe440195ac08aad721e90f",
       "version_major": 2,
       "version_minor": 0
      },
      "text/plain": [
       "HBox(children=(FloatProgress(value=0.0), HTML(value='')))"
      ]
     },
     "metadata": {},
     "output_type": "display_data"
    },
    {
     "name": "stdout",
     "output_type": "stream",
     "text": [
      "\n"
     ]
    },
    {
     "data": {
      "text/plain": [
       "<matplotlib.image.AxesImage at 0x7f6342b1cf10>"
      ]
     },
     "execution_count": 95,
     "metadata": {},
     "output_type": "execute_result"
    },
    {
     "data": {
      "image/png": "[encoded data removed]",
      "text/plain": [
       "<Figure size 432x288 with 1 Axes>"
      ]
     },
     "metadata": {
      "needs_background": "light"
     },
     "output_type": "display_data"
    }
   ],
   "source": [
    "window_size = 20\n",
    "X_new = np.zeros((len(X)-window_size, window_size, 46))\n",
    "y_new = np.zeros((len(X)-window_size, 1))\n",
    "sc = StandardScaler()\n",
    "\n",
    "for i in tqdm(range(window_size, len(X))[:100]):\n",
    "    window = X[i-window_size:i]\n",
    "    #window = window.div(window.iloc[0])\n",
    "    #window = sc.fit_transform(window)\n",
    "    X_new[i-window_size] = window\n",
    "    y_new[i-window_size] = y[i]\n",
    "\n",
    "plt.imshow(X_new[9])"
   ]
  },
  {
   "cell_type": "code",
   "execution_count": 125,
   "metadata": {},
   "outputs": [
    {
     "data": {
      "text/plain": [
       "<matplotlib.image.AxesImage at 0x7f6342aaaac0>"
      ]
     },
     "execution_count": 125,
     "metadata": {},
     "output_type": "execute_result"
    },
    {
     "data": {
      "image/png": "[encoded data removed]",
      "text/plain": [
       "<Figure size 432x288 with 1 Axes>"
      ]
     },
     "metadata": {
      "needs_background": "light"
     },
     "output_type": "display_data"
    }
   ],
   "source": [
    "i = 99\n",
    "w = X.drop(['cross_bidvol', 'cross_askvol'], axis=1)[i-window_size:i]\n",
    "w = (w.div(w.iloc[0]) - 1).fillna(0).replace(np.inf, 0)\n",
    "plt.imshow(w)"
   ]
  },
  {
   "cell_type": "code",
   "execution_count": 127,
   "metadata": {},
   "outputs": [
    {
     "data": {
      "application/vnd.jupyter.widget-view+json": {
       "model_id": "ac5440924e344382b8af37ef1f99cb81",
       "version_major": 2,
       "version_minor": 0
      },
      "text/plain": [
       "HBox(children=(FloatProgress(value=0.0, max=169969.0), HTML(value='')))"
      ]
     },
     "metadata": {},
     "output_type": "display_data"
    },
    {
     "name": "stdout",
     "output_type": "stream",
     "text": [
      "\n"
     ]
    }
   ],
   "source": [
    "window_size = 20\n",
    "X_new = np.zeros((len(X)-window_size, window_size, 44))\n",
    "y_new = np.zeros((len(X)-window_size, 1))\n",
    "sc = StandardScaler()\n",
    "\n",
    "for i in tqdm(range(window_size, len(X))):\n",
    "    window = X.drop(['cross_bidvol', 'cross_askvol'], axis=1)[i-window_size:i]\n",
    "    window = (window.div(w.iloc[0]) - 1).fillna(0).replace(np.inf, 0)\n",
    "    #window = sc.fit_transform(window)\n",
    "    X_new[i-window_size] = np.nan_to_num(window, nan=0)\n",
    "    y_new[i-window_size] = y[i]"
   ]
  },
  {
   "cell_type": "code",
   "execution_count": 128,
   "metadata": {},
   "outputs": [],
   "source": [
    "np.save('data/X_normalized.npy', X_new, allow_pickle=True)\n",
    "np.save('data/y_normalized.npy', y_new, allow_pickle=True)"
   ]
  },
  {
   "cell_type": "code",
   "execution_count": 10,
   "metadata": {},
   "outputs": [
    {
     "name": "stderr",
     "output_type": "stream",
     "text": [
      "100%|██████████| 100/100 [00:01<00:00, 80.82it/s]\n"
     ]
    },
    {
     "data": {
      "text/plain": [
       "<matplotlib.image.AxesImage at 0x7f5d89592c40>"
      ]
     },
     "execution_count": 10,
     "metadata": {},
     "output_type": "execute_result"
    },
    {
     "data": {
      "image/png": "[encoded data removed]",
      "image/svg+xml": [
       "<?xml version=\"1.0\" encoding=\"utf-8\" standalone=\"no\"?>\n",
       "<!DOCTYPE svg PUBLIC \"-//W3C//DTD SVG 1.1//EN\"\n",
       "  \"http://www.w3.org/Graphics/SVG/1.1/DTD/svg11.dtd\">\n",
       "<!-- Created with matplotlib (https://matplotlib.org/) -->\n",
       "<svg height=\"358.319344pt\" version=\"1.1\" viewBox=\"0 0 273.309 358.319344\" width=\"273.309pt\" xmlns=\"http://www.w3.org/2000/svg\" xmlns:xlink=\"http://www.w3.org/1999/xlink\">\n",
       " <defs>\n",
       "  <style type=\"text/css\">\n",
       "*{stroke-linecap:butt;stroke-linejoin:round;}\n",
       "  </style>\n",
       " </defs>\n",
       " <g id=\"figure_1\">\n",
       "  <g id=\"patch_1\">\n",
       "   <path d=\"M 0 358.319344 \n",
       "L 273.309 358.319344 \n",
       "L 273.309 0 \n",
       "L 0 0 \n",
       "z\n",
       "\" style=\"fill:none;\"/>\n",
       "  </g>\n",
       "  <g id=\"axes_1\">\n",
       "   <g id=\"patch_2\">\n",
       "    <path d=\"M 26.925 334.441219 \n",
       "L 266.109 334.441219 \n",
       "L 266.109 8.281219 \n",
       "L 26.925 8.281219 \n",
       "z\n",
       "\" style=\"fill:#ffffff;\"/>\n",
       "   </g>\n",
       "   <g clip-path=\"url(#pf17b20a542)\">\n",
       "    <image height=\"327\" id=\"image70694cf48f\" transform=\"scale(1 -1)translate(0 -327)\" width=\"240\" x=\"26.925\" xlink:href=\"data:image/png;base64,\n",
       "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\" y=\"-7.441219\"/>\n",
       "   </g>\n",
       "   <g id=\"matplotlib.axis_1\">\n",
       "    <g id=\"xtick_1\">\n",
       "     <g id=\"line2d_1\">\n",
       "      <defs>\n",
       "       <path d=\"M 0 0 \n",
       "L 0 3.5 \n",
       "\" id=\"mab6e335aa7\" style=\"stroke:#000000;stroke-width:0.8;\"/>\n",
       "      </defs>\n",
       "      <g>\n",
       "       <use style=\"stroke:#000000;stroke-width:0.8;\" x=\"29.643\" xlink:href=\"#mab6e335aa7\" y=\"334.441219\"/>\n",
       "      </g>\n",
       "     </g>\n",
       "     <g id=\"text_1\">\n",
       "      <!-- 0 -->\n",
       "      <defs>\n",
       "       <path d=\"M 31.78125 66.40625 \n",
       "Q 24.171875 66.40625 20.328125 58.90625 \n",
       "Q 16.5 51.421875 16.5 36.375 \n",
       "Q 16.5 21.390625 20.328125 13.890625 \n",
       "Q 24.171875 6.390625 31.78125 6.390625 \n",
       "Q 39.453125 6.390625 43.28125 13.890625 \n",
       "Q 47.125 21.390625 47.125 36.375 \n",
       "Q 47.125 51.421875 43.28125 58.90625 \n",
       "Q 39.453125 66.40625 31.78125 66.40625 \n",
       "z\n",
       "M 31.78125 74.21875 \n",
       "Q 44.046875 74.21875 50.515625 64.515625 \n",
       "Q 56.984375 54.828125 56.984375 36.375 \n",
       "Q 56.984375 17.96875 50.515625 8.265625 \n",
       "Q 44.046875 -1.421875 31.78125 -1.421875 \n",
       "Q 19.53125 -1.421875 13.0625 8.265625 \n",
       "Q 6.59375 17.96875 6.59375 36.375 \n",
       "Q 6.59375 54.828125 13.0625 64.515625 \n",
       "Q 19.53125 74.21875 31.78125 74.21875 \n",
       "z\n",
       "\" id=\"DejaVuSans-48\"/>\n",
       "      </defs>\n",
       "      <g transform=\"translate(26.46175 349.039656)scale(0.1 -0.1)\">\n",
       "       <use xlink:href=\"#DejaVuSans-48\"/>\n",
       "      </g>\n",
       "     </g>\n",
       "    </g>\n",
       "    <g id=\"xtick_2\">\n",
       "     <g id=\"line2d_2\">\n",
       "      <g>\n",
       "       <use style=\"stroke:#000000;stroke-width:0.8;\" x=\"84.003\" xlink:href=\"#mab6e335aa7\" y=\"334.441219\"/>\n",
       "      </g>\n",
       "     </g>\n",
       "     <g id=\"text_2\">\n",
       "      <!-- 10 -->\n",
       "      <defs>\n",
       "       <path d=\"M 12.40625 8.296875 \n",
       "L 28.515625 8.296875 \n",
       "L 28.515625 63.921875 \n",
       "L 10.984375 60.40625 \n",
       "L 10.984375 69.390625 \n",
       "L 28.421875 72.90625 \n",
       "L 38.28125 72.90625 \n",
       "L 38.28125 8.296875 \n",
       "L 54.390625 8.296875 \n",
       "L 54.390625 0 \n",
       "L 12.40625 0 \n",
       "z\n",
       "\" id=\"DejaVuSans-49\"/>\n",
       "      </defs>\n",
       "      <g transform=\"translate(77.6405 349.039656)scale(0.1 -0.1)\">\n",
       "       <use xlink:href=\"#DejaVuSans-49\"/>\n",
       "       <use x=\"63.623047\" xlink:href=\"#DejaVuSans-48\"/>\n",
       "      </g>\n",
       "     </g>\n",
       "    </g>\n",
       "    <g id=\"xtick_3\">\n",
       "     <g id=\"line2d_3\">\n",
       "      <g>\n",
       "       <use style=\"stroke:#000000;stroke-width:0.8;\" x=\"138.363\" xlink:href=\"#mab6e335aa7\" y=\"334.441219\"/>\n",
       "      </g>\n",
       "     </g>\n",
       "     <g id=\"text_3\">\n",
       "      <!-- 20 -->\n",
       "      <defs>\n",
       "       <path d=\"M 19.1875 8.296875 \n",
       "L 53.609375 8.296875 \n",
       "L 53.609375 0 \n",
       "L 7.328125 0 \n",
       "L 7.328125 8.296875 \n",
       "Q 12.9375 14.109375 22.625 23.890625 \n",
       "Q 32.328125 33.6875 34.8125 36.53125 \n",
       "Q 39.546875 41.84375 41.421875 45.53125 \n",
       "Q 43.3125 49.21875 43.3125 52.78125 \n",
       "Q 43.3125 58.59375 39.234375 62.25 \n",
       "Q 35.15625 65.921875 28.609375 65.921875 \n",
       "Q 23.96875 65.921875 18.8125 64.3125 \n",
       "Q 13.671875 62.703125 7.8125 59.421875 \n",
       "L 7.8125 69.390625 \n",
       "Q 13.765625 71.78125 18.9375 73 \n",
       "Q 24.125 74.21875 28.421875 74.21875 \n",
       "Q 39.75 74.21875 46.484375 68.546875 \n",
       "Q 53.21875 62.890625 53.21875 53.421875 \n",
       "Q 53.21875 48.921875 51.53125 44.890625 \n",
       "Q 49.859375 40.875 45.40625 35.40625 \n",
       "Q 44.1875 33.984375 37.640625 27.21875 \n",
       "Q 31.109375 20.453125 19.1875 8.296875 \n",
       "z\n",
       "\" id=\"DejaVuSans-50\"/>\n",
       "      </defs>\n",
       "      <g transform=\"translate(132.0005 349.039656)scale(0.1 -0.1)\">\n",
       "       <use xlink:href=\"#DejaVuSans-50\"/>\n",
       "       <use x=\"63.623047\" xlink:href=\"#DejaVuSans-48\"/>\n",
       "      </g>\n",
       "     </g>\n",
       "    </g>\n",
       "    <g id=\"xtick_4\">\n",
       "     <g id=\"line2d_4\">\n",
       "      <g>\n",
       "       <use style=\"stroke:#000000;stroke-width:0.8;\" x=\"192.723\" xlink:href=\"#mab6e335aa7\" y=\"334.441219\"/>\n",
       "      </g>\n",
       "     </g>\n",
       "     <g id=\"text_4\">\n",
       "      <!-- 30 -->\n",
       "      <defs>\n",
       "       <path d=\"M 40.578125 39.3125 \n",
       "Q 47.65625 37.796875 51.625 33 \n",
       "Q 55.609375 28.21875 55.609375 21.1875 \n",
       "Q 55.609375 10.40625 48.1875 4.484375 \n",
       "Q 40.765625 -1.421875 27.09375 -1.421875 \n",
       "Q 22.515625 -1.421875 17.65625 -0.515625 \n",
       "Q 12.796875 0.390625 7.625 2.203125 \n",
       "L 7.625 11.71875 \n",
       "Q 11.71875 9.328125 16.59375 8.109375 \n",
       "Q 21.484375 6.890625 26.8125 6.890625 \n",
       "Q 36.078125 6.890625 40.9375 10.546875 \n",
       "Q 45.796875 14.203125 45.796875 21.1875 \n",
       "Q 45.796875 27.640625 41.28125 31.265625 \n",
       "Q 36.765625 34.90625 28.71875 34.90625 \n",
       "L 20.21875 34.90625 \n",
       "L 20.21875 43.015625 \n",
       "L 29.109375 43.015625 \n",
       "Q 36.375 43.015625 40.234375 45.921875 \n",
       "Q 44.09375 48.828125 44.09375 54.296875 \n",
       "Q 44.09375 59.90625 40.109375 62.90625 \n",
       "Q 36.140625 65.921875 28.71875 65.921875 \n",
       "Q 24.65625 65.921875 20.015625 65.03125 \n",
       "Q 15.375 64.15625 9.8125 62.3125 \n",
       "L 9.8125 71.09375 \n",
       "Q 15.4375 72.65625 20.34375 73.4375 \n",
       "Q 25.25 74.21875 29.59375 74.21875 \n",
       "Q 40.828125 74.21875 47.359375 69.109375 \n",
       "Q 53.90625 64.015625 53.90625 55.328125 \n",
       "Q 53.90625 49.265625 50.4375 45.09375 \n",
       "Q 46.96875 40.921875 40.578125 39.3125 \n",
       "z\n",
       "\" id=\"DejaVuSans-51\"/>\n",
       "      </defs>\n",
       "      <g transform=\"translate(186.3605 349.039656)scale(0.1 -0.1)\">\n",
       "       <use xlink:href=\"#DejaVuSans-51\"/>\n",
       "       <use x=\"63.623047\" xlink:href=\"#DejaVuSans-48\"/>\n",
       "      </g>\n",
       "     </g>\n",
       "    </g>\n",
       "    <g id=\"xtick_5\">\n",
       "     <g id=\"line2d_5\">\n",
       "      <g>\n",
       "       <use style=\"stroke:#000000;stroke-width:0.8;\" x=\"247.083\" xlink:href=\"#mab6e335aa7\" y=\"334.441219\"/>\n",
       "      </g>\n",
       "     </g>\n",
       "     <g id=\"text_5\">\n",
       "      <!-- 40 -->\n",
       "      <defs>\n",
       "       <path d=\"M 37.796875 64.3125 \n",
       "L 12.890625 25.390625 \n",
       "L 37.796875 25.390625 \n",
       "z\n",
       "M 35.203125 72.90625 \n",
       "L 47.609375 72.90625 \n",
       "L 47.609375 25.390625 \n",
       "L 58.015625 25.390625 \n",
       "L 58.015625 17.1875 \n",
       "L 47.609375 17.1875 \n",
       "L 47.609375 0 \n",
       "L 37.796875 0 \n",
       "L 37.796875 17.1875 \n",
       "L 4.890625 17.1875 \n",
       "L 4.890625 26.703125 \n",
       "z\n",
       "\" id=\"DejaVuSans-52\"/>\n",
       "      </defs>\n",
       "      <g transform=\"translate(240.7205 349.039656)scale(0.1 -0.1)\">\n",
       "       <use xlink:href=\"#DejaVuSans-52\"/>\n",
       "       <use x=\"63.623047\" xlink:href=\"#DejaVuSans-48\"/>\n",
       "      </g>\n",
       "     </g>\n",
       "    </g>\n",
       "   </g>\n",
       "   <g id=\"matplotlib.axis_2\">\n",
       "    <g id=\"ytick_1\">\n",
       "     <g id=\"line2d_6\">\n",
       "      <defs>\n",
       "       <path d=\"M 0 0 \n",
       "L -3.5 0 \n",
       "\" id=\"mf55a10471f\" style=\"stroke:#000000;stroke-width:0.8;\"/>\n",
       "      </defs>\n",
       "      <g>\n",
       "       <use style=\"stroke:#000000;stroke-width:0.8;\" x=\"26.925\" xlink:href=\"#mf55a10471f\" y=\"10.999219\"/>\n",
       "      </g>\n",
       "     </g>\n",
       "     <g id=\"text_6\">\n",
       "      <!-- 0 -->\n",
       "      <g transform=\"translate(13.5625 14.798437)scale(0.1 -0.1)\">\n",
       "       <use xlink:href=\"#DejaVuSans-48\"/>\n",
       "      </g>\n",
       "     </g>\n",
       "    </g>\n",
       "    <g id=\"ytick_2\">\n",
       "     <g id=\"line2d_7\">\n",
       "      <g>\n",
       "       <use style=\"stroke:#000000;stroke-width:0.8;\" x=\"26.925\" xlink:href=\"#mf55a10471f\" y=\"65.359219\"/>\n",
       "      </g>\n",
       "     </g>\n",
       "     <g id=\"text_7\">\n",
       "      <!-- 10 -->\n",
       "      <g transform=\"translate(7.2 69.158437)scale(0.1 -0.1)\">\n",
       "       <use xlink:href=\"#DejaVuSans-49\"/>\n",
       "       <use x=\"63.623047\" xlink:href=\"#DejaVuSans-48\"/>\n",
       "      </g>\n",
       "     </g>\n",
       "    </g>\n",
       "    <g id=\"ytick_3\">\n",
       "     <g id=\"line2d_8\">\n",
       "      <g>\n",
       "       <use style=\"stroke:#000000;stroke-width:0.8;\" x=\"26.925\" xlink:href=\"#mf55a10471f\" y=\"119.719219\"/>\n",
       "      </g>\n",
       "     </g>\n",
       "     <g id=\"text_8\">\n",
       "      <!-- 20 -->\n",
       "      <g transform=\"translate(7.2 123.518437)scale(0.1 -0.1)\">\n",
       "       <use xlink:href=\"#DejaVuSans-50\"/>\n",
       "       <use x=\"63.623047\" xlink:href=\"#DejaVuSans-48\"/>\n",
       "      </g>\n",
       "     </g>\n",
       "    </g>\n",
       "    <g id=\"ytick_4\">\n",
       "     <g id=\"line2d_9\">\n",
       "      <g>\n",
       "       <use style=\"stroke:#000000;stroke-width:0.8;\" x=\"26.925\" xlink:href=\"#mf55a10471f\" y=\"174.079219\"/>\n",
       "      </g>\n",
       "     </g>\n",
       "     <g id=\"text_9\">\n",
       "      <!-- 30 -->\n",
       "      <g transform=\"translate(7.2 177.878437)scale(0.1 -0.1)\">\n",
       "       <use xlink:href=\"#DejaVuSans-51\"/>\n",
       "       <use x=\"63.623047\" xlink:href=\"#DejaVuSans-48\"/>\n",
       "      </g>\n",
       "     </g>\n",
       "    </g>\n",
       "    <g id=\"ytick_5\">\n",
       "     <g id=\"line2d_10\">\n",
       "      <g>\n",
       "       <use style=\"stroke:#000000;stroke-width:0.8;\" x=\"26.925\" xlink:href=\"#mf55a10471f\" y=\"228.439219\"/>\n",
       "      </g>\n",
       "     </g>\n",
       "     <g id=\"text_10\">\n",
       "      <!-- 40 -->\n",
       "      <g transform=\"translate(7.2 232.238437)scale(0.1 -0.1)\">\n",
       "       <use xlink:href=\"#DejaVuSans-52\"/>\n",
       "       <use x=\"63.623047\" xlink:href=\"#DejaVuSans-48\"/>\n",
       "      </g>\n",
       "     </g>\n",
       "    </g>\n",
       "    <g id=\"ytick_6\">\n",
       "     <g id=\"line2d_11\">\n",
       "      <g>\n",
       "       <use style=\"stroke:#000000;stroke-width:0.8;\" x=\"26.925\" xlink:href=\"#mf55a10471f\" y=\"282.799219\"/>\n",
       "      </g>\n",
       "     </g>\n",
       "     <g id=\"text_11\">\n",
       "      <!-- 50 -->\n",
       "      <defs>\n",
       "       <path d=\"M 10.796875 72.90625 \n",
       "L 49.515625 72.90625 \n",
       "L 49.515625 64.59375 \n",
       "L 19.828125 64.59375 \n",
       "L 19.828125 46.734375 \n",
       "Q 21.96875 47.46875 24.109375 47.828125 \n",
       "Q 26.265625 48.1875 28.421875 48.1875 \n",
       "Q 40.625 48.1875 47.75 41.5 \n",
       "Q 54.890625 34.8125 54.890625 23.390625 \n",
       "Q 54.890625 11.625 47.5625 5.09375 \n",
       "Q 40.234375 -1.421875 26.90625 -1.421875 \n",
       "Q 22.3125 -1.421875 17.546875 -0.640625 \n",
       "Q 12.796875 0.140625 7.71875 1.703125 \n",
       "L 7.71875 11.625 \n",
       "Q 12.109375 9.234375 16.796875 8.0625 \n",
       "Q 21.484375 6.890625 26.703125 6.890625 \n",
       "Q 35.15625 6.890625 40.078125 11.328125 \n",
       "Q 45.015625 15.765625 45.015625 23.390625 \n",
       "Q 45.015625 31 40.078125 35.4375 \n",
       "Q 35.15625 39.890625 26.703125 39.890625 \n",
       "Q 22.75 39.890625 18.8125 39.015625 \n",
       "Q 14.890625 38.140625 10.796875 36.28125 \n",
       "z\n",
       "\" id=\"DejaVuSans-53\"/>\n",
       "      </defs>\n",
       "      <g transform=\"translate(7.2 286.598437)scale(0.1 -0.1)\">\n",
       "       <use xlink:href=\"#DejaVuSans-53\"/>\n",
       "       <use x=\"63.623047\" xlink:href=\"#DejaVuSans-48\"/>\n",
       "      </g>\n",
       "     </g>\n",
       "    </g>\n",
       "   </g>\n",
       "   <g id=\"patch_3\">\n",
       "    <path d=\"M 26.925 334.441219 \n",
       "L 26.925 8.281219 \n",
       "\" style=\"fill:none;stroke:#000000;stroke-linecap:square;stroke-linejoin:miter;stroke-width:0.8;\"/>\n",
       "   </g>\n",
       "   <g id=\"patch_4\">\n",
       "    <path d=\"M 266.109 334.441219 \n",
       "L 266.109 8.281219 \n",
       "\" style=\"fill:none;stroke:#000000;stroke-linecap:square;stroke-linejoin:miter;stroke-width:0.8;\"/>\n",
       "   </g>\n",
       "   <g id=\"patch_5\">\n",
       "    <path d=\"M 26.925 334.441219 \n",
       "L 266.109 334.441219 \n",
       "\" style=\"fill:none;stroke:#000000;stroke-linecap:square;stroke-linejoin:miter;stroke-width:0.8;\"/>\n",
       "   </g>\n",
       "   <g id=\"patch_6\">\n",
       "    <path d=\"M 26.925 8.281219 \n",
       "L 266.109 8.281219 \n",
       "\" style=\"fill:none;stroke:#000000;stroke-linecap:square;stroke-linejoin:miter;stroke-width:0.8;\"/>\n",
       "   </g>\n",
       "  </g>\n",
       " </g>\n",
       " <defs>\n",
       "  <clipPath id=\"pf17b20a542\">\n",
       "   <rect height=\"326.16\" width=\"239.184\" x=\"26.925\" y=\"8.281219\"/>\n",
       "  </clipPath>\n",
       " </defs>\n",
       "</svg>\n"
      ],
      "text/plain": [
       "<Figure size 432x432 with 1 Axes>"
      ]
     },
     "metadata": {
      "needs_background": "light"
     },
     "output_type": "display_data"
    }
   ],
   "source": [
    "window_size = 60\n",
    "X_new = np.zeros((len(X)-window_size, window_size, 44))\n",
    "#y_new = np.zeros(len(X_buy)-window_size)\n",
    "sc = StandardScaler()\n",
    "\n",
    "for i in tqdm(range(window_size, len(X))[:100]):\n",
    "    window = X.drop(['trendline', 'mid'], axis=1)[i-window_size:i]\n",
    "    #window = window.div(window.iloc[0])\n",
    "    window = sc.fit_transform(window)\n",
    "    X_new[i-window_size] = window\n",
    "\n",
    "y_new = np.array(y[window_size:])\n",
    "\n",
    "plt.figure(figsize=(6, 6))\n",
    "plt.imshow(X_new[9])"
   ]
  },
  {
   "cell_type": "code",
   "execution_count": 11,
   "metadata": {},
   "outputs": [
    {
     "name": "stderr",
     "output_type": "stream",
     "text": [
      "100%|██████████| 169929/169929 [34:32<00:00, 81.99it/s]\n"
     ]
    }
   ],
   "source": [
    "window_size = 60\n",
    "X_new = np.zeros((len(X)-window_size, window_size, 44))\n",
    "sc = StandardScaler()\n",
    "\n",
    "for i in tqdm(range(window_size, len(X))):\n",
    "    window = X.drop(['trendline', 'mid'], axis=1)[i-window_size:i]\n",
    "    #window = window.div(window.iloc[0])\n",
    "    window = sc.fit_transform(window)\n",
    "    X_new[i-window_size] = window\n",
    "\n",
    "y_new = np.array(y[window_size:])"
   ]
  },
  {
   "cell_type": "code",
   "execution_count": null,
   "metadata": {},
   "outputs": [],
   "source": []
  },
  {
   "cell_type": "code",
   "execution_count": 12,
   "metadata": {},
   "outputs": [],
   "source": [
    "np.save('data/X.npy', X_new, allow_pickle=True)\n",
    "np.save('data/y.npy', y_new, allow_pickle=True)"
   ]
  },
  {
   "cell_type": "code",
   "execution_count": 24,
   "metadata": {},
   "outputs": [],
   "source": [
    "X_new = np.asarray(X_new).astype(np.float32)\n",
    "y_new = np.asarray(y_new).astype(np.float32)"
   ]
  },
  {
   "cell_type": "code",
   "execution_count": 26,
   "metadata": {},
   "outputs": [
    {
     "data": {
      "text/plain": [
       "<matplotlib.image.AxesImage at 0x7f5d442ff6a0>"
      ]
     },
     "execution_count": 26,
     "metadata": {},
     "output_type": "execute_result"
    },
    {
     "data": {
      "image/png": "[encoded data removed]",
      "image/svg+xml": [
       "<?xml version=\"1.0\" encoding=\"utf-8\" standalone=\"no\"?>\n",
       "<!DOCTYPE svg PUBLIC \"-//W3C//DTD SVG 1.1//EN\"\n",
       "  \"http://www.w3.org/Graphics/SVG/1.1/DTD/svg11.dtd\">\n",
       "<!-- Created with matplotlib (https://matplotlib.org/) -->\n",
       "<svg height=\"250.505344pt\" version=\"1.1\" viewBox=\"0 0 193.581 250.505344\" width=\"193.581pt\" xmlns=\"http://www.w3.org/2000/svg\" xmlns:xlink=\"http://www.w3.org/1999/xlink\">\n",
       " <defs>\n",
       "  <style type=\"text/css\">\n",
       "*{stroke-linecap:butt;stroke-linejoin:round;}\n",
       "  </style>\n",
       " </defs>\n",
       " <g id=\"figure_1\">\n",
       "  <g id=\"patch_1\">\n",
       "   <path d=\"M -0 250.505344 \n",
       "L 193.581 250.505344 \n",
       "L 193.581 0 \n",
       "L -0 0 \n",
       "z\n",
       "\" style=\"fill:none;\"/>\n",
       "  </g>\n",
       "  <g id=\"axes_1\">\n",
       "   <g id=\"patch_2\">\n",
       "    <path d=\"M 26.925 226.627219 \n",
       "L 186.381 226.627219 \n",
       "L 186.381 9.187219 \n",
       "L 26.925 9.187219 \n",
       "z\n",
       "\" style=\"fill:#ffffff;\"/>\n",
       "   </g>\n",
       "   <g clip-path=\"url(#pa8ffbafd4d)\">\n",
       "    <image height=\"218\" id=\"imageaea336c68a\" transform=\"scale(1 -1)translate(0 -218)\" width=\"160\" x=\"26.925\" xlink:href=\"data:image/png;base64,\n",
       "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\" y=\"-8.627219\"/>\n",
       "   </g>\n",
       "   <g id=\"matplotlib.axis_1\">\n",
       "    <g id=\"xtick_1\">\n",
       "     <g id=\"line2d_1\">\n",
       "      <defs>\n",
       "       <path d=\"M 0 0 \n",
       "L 0 3.5 \n",
       "\" id=\"m0e4cbcc847\" style=\"stroke:#000000;stroke-width:0.8;\"/>\n",
       "      </defs>\n",
       "      <g>\n",
       "       <use style=\"stroke:#000000;stroke-width:0.8;\" x=\"28.737\" xlink:href=\"#m0e4cbcc847\" y=\"226.627219\"/>\n",
       "      </g>\n",
       "     </g>\n",
       "     <g id=\"text_1\">\n",
       "      <!-- 0 -->\n",
       "      <defs>\n",
       "       <path d=\"M 31.78125 66.40625 \n",
       "Q 24.171875 66.40625 20.328125 58.90625 \n",
       "Q 16.5 51.421875 16.5 36.375 \n",
       "Q 16.5 21.390625 20.328125 13.890625 \n",
       "Q 24.171875 6.390625 31.78125 6.390625 \n",
       "Q 39.453125 6.390625 43.28125 13.890625 \n",
       "Q 47.125 21.390625 47.125 36.375 \n",
       "Q 47.125 51.421875 43.28125 58.90625 \n",
       "Q 39.453125 66.40625 31.78125 66.40625 \n",
       "z\n",
       "M 31.78125 74.21875 \n",
       "Q 44.046875 74.21875 50.515625 64.515625 \n",
       "Q 56.984375 54.828125 56.984375 36.375 \n",
       "Q 56.984375 17.96875 50.515625 8.265625 \n",
       "Q 44.046875 -1.421875 31.78125 -1.421875 \n",
       "Q 19.53125 -1.421875 13.0625 8.265625 \n",
       "Q 6.59375 17.96875 6.59375 36.375 \n",
       "Q 6.59375 54.828125 13.0625 64.515625 \n",
       "Q 19.53125 74.21875 31.78125 74.21875 \n",
       "z\n",
       "\" id=\"DejaVuSans-48\"/>\n",
       "      </defs>\n",
       "      <g transform=\"translate(25.55575 241.225656)scale(0.1 -0.1)\">\n",
       "       <use xlink:href=\"#DejaVuSans-48\"/>\n",
       "      </g>\n",
       "     </g>\n",
       "    </g>\n",
       "    <g id=\"xtick_2\">\n",
       "     <g id=\"line2d_2\">\n",
       "      <g>\n",
       "       <use style=\"stroke:#000000;stroke-width:0.8;\" x=\"64.977\" xlink:href=\"#m0e4cbcc847\" y=\"226.627219\"/>\n",
       "      </g>\n",
       "     </g>\n",
       "     <g id=\"text_2\">\n",
       "      <!-- 10 -->\n",
       "      <defs>\n",
       "       <path d=\"M 12.40625 8.296875 \n",
       "L 28.515625 8.296875 \n",
       "L 28.515625 63.921875 \n",
       "L 10.984375 60.40625 \n",
       "L 10.984375 69.390625 \n",
       "L 28.421875 72.90625 \n",
       "L 38.28125 72.90625 \n",
       "L 38.28125 8.296875 \n",
       "L 54.390625 8.296875 \n",
       "L 54.390625 0 \n",
       "L 12.40625 0 \n",
       "z\n",
       "\" id=\"DejaVuSans-49\"/>\n",
       "      </defs>\n",
       "      <g transform=\"translate(58.6145 241.225656)scale(0.1 -0.1)\">\n",
       "       <use xlink:href=\"#DejaVuSans-49\"/>\n",
       "       <use x=\"63.623047\" xlink:href=\"#DejaVuSans-48\"/>\n",
       "      </g>\n",
       "     </g>\n",
       "    </g>\n",
       "    <g id=\"xtick_3\">\n",
       "     <g id=\"line2d_3\">\n",
       "      <g>\n",
       "       <use style=\"stroke:#000000;stroke-width:0.8;\" x=\"101.217\" xlink:href=\"#m0e4cbcc847\" y=\"226.627219\"/>\n",
       "      </g>\n",
       "     </g>\n",
       "     <g id=\"text_3\">\n",
       "      <!-- 20 -->\n",
       "      <defs>\n",
       "       <path d=\"M 19.1875 8.296875 \n",
       "L 53.609375 8.296875 \n",
       "L 53.609375 0 \n",
       "L 7.328125 0 \n",
       "L 7.328125 8.296875 \n",
       "Q 12.9375 14.109375 22.625 23.890625 \n",
       "Q 32.328125 33.6875 34.8125 36.53125 \n",
       "Q 39.546875 41.84375 41.421875 45.53125 \n",
       "Q 43.3125 49.21875 43.3125 52.78125 \n",
       "Q 43.3125 58.59375 39.234375 62.25 \n",
       "Q 35.15625 65.921875 28.609375 65.921875 \n",
       "Q 23.96875 65.921875 18.8125 64.3125 \n",
       "Q 13.671875 62.703125 7.8125 59.421875 \n",
       "L 7.8125 69.390625 \n",
       "Q 13.765625 71.78125 18.9375 73 \n",
       "Q 24.125 74.21875 28.421875 74.21875 \n",
       "Q 39.75 74.21875 46.484375 68.546875 \n",
       "Q 53.21875 62.890625 53.21875 53.421875 \n",
       "Q 53.21875 48.921875 51.53125 44.890625 \n",
       "Q 49.859375 40.875 45.40625 35.40625 \n",
       "Q 44.1875 33.984375 37.640625 27.21875 \n",
       "Q 31.109375 20.453125 19.1875 8.296875 \n",
       "z\n",
       "\" id=\"DejaVuSans-50\"/>\n",
       "      </defs>\n",
       "      <g transform=\"translate(94.8545 241.225656)scale(0.1 -0.1)\">\n",
       "       <use xlink:href=\"#DejaVuSans-50\"/>\n",
       "       <use x=\"63.623047\" xlink:href=\"#DejaVuSans-48\"/>\n",
       "      </g>\n",
       "     </g>\n",
       "    </g>\n",
       "    <g id=\"xtick_4\">\n",
       "     <g id=\"line2d_4\">\n",
       "      <g>\n",
       "       <use style=\"stroke:#000000;stroke-width:0.8;\" x=\"137.457\" xlink:href=\"#m0e4cbcc847\" y=\"226.627219\"/>\n",
       "      </g>\n",
       "     </g>\n",
       "     <g id=\"text_4\">\n",
       "      <!-- 30 -->\n",
       "      <defs>\n",
       "       <path d=\"M 40.578125 39.3125 \n",
       "Q 47.65625 37.796875 51.625 33 \n",
       "Q 55.609375 28.21875 55.609375 21.1875 \n",
       "Q 55.609375 10.40625 48.1875 4.484375 \n",
       "Q 40.765625 -1.421875 27.09375 -1.421875 \n",
       "Q 22.515625 -1.421875 17.65625 -0.515625 \n",
       "Q 12.796875 0.390625 7.625 2.203125 \n",
       "L 7.625 11.71875 \n",
       "Q 11.71875 9.328125 16.59375 8.109375 \n",
       "Q 21.484375 6.890625 26.8125 6.890625 \n",
       "Q 36.078125 6.890625 40.9375 10.546875 \n",
       "Q 45.796875 14.203125 45.796875 21.1875 \n",
       "Q 45.796875 27.640625 41.28125 31.265625 \n",
       "Q 36.765625 34.90625 28.71875 34.90625 \n",
       "L 20.21875 34.90625 \n",
       "L 20.21875 43.015625 \n",
       "L 29.109375 43.015625 \n",
       "Q 36.375 43.015625 40.234375 45.921875 \n",
       "Q 44.09375 48.828125 44.09375 54.296875 \n",
       "Q 44.09375 59.90625 40.109375 62.90625 \n",
       "Q 36.140625 65.921875 28.71875 65.921875 \n",
       "Q 24.65625 65.921875 20.015625 65.03125 \n",
       "Q 15.375 64.15625 9.8125 62.3125 \n",
       "L 9.8125 71.09375 \n",
       "Q 15.4375 72.65625 20.34375 73.4375 \n",
       "Q 25.25 74.21875 29.59375 74.21875 \n",
       "Q 40.828125 74.21875 47.359375 69.109375 \n",
       "Q 53.90625 64.015625 53.90625 55.328125 \n",
       "Q 53.90625 49.265625 50.4375 45.09375 \n",
       "Q 46.96875 40.921875 40.578125 39.3125 \n",
       "z\n",
       "\" id=\"DejaVuSans-51\"/>\n",
       "      </defs>\n",
       "      <g transform=\"translate(131.0945 241.225656)scale(0.1 -0.1)\">\n",
       "       <use xlink:href=\"#DejaVuSans-51\"/>\n",
       "       <use x=\"63.623047\" xlink:href=\"#DejaVuSans-48\"/>\n",
       "      </g>\n",
       "     </g>\n",
       "    </g>\n",
       "    <g id=\"xtick_5\">\n",
       "     <g id=\"line2d_5\">\n",
       "      <g>\n",
       "       <use style=\"stroke:#000000;stroke-width:0.8;\" x=\"173.697\" xlink:href=\"#m0e4cbcc847\" y=\"226.627219\"/>\n",
       "      </g>\n",
       "     </g>\n",
       "     <g id=\"text_5\">\n",
       "      <!-- 40 -->\n",
       "      <defs>\n",
       "       <path d=\"M 37.796875 64.3125 \n",
       "L 12.890625 25.390625 \n",
       "L 37.796875 25.390625 \n",
       "z\n",
       "M 35.203125 72.90625 \n",
       "L 47.609375 72.90625 \n",
       "L 47.609375 25.390625 \n",
       "L 58.015625 25.390625 \n",
       "L 58.015625 17.1875 \n",
       "L 47.609375 17.1875 \n",
       "L 47.609375 0 \n",
       "L 37.796875 0 \n",
       "L 37.796875 17.1875 \n",
       "L 4.890625 17.1875 \n",
       "L 4.890625 26.703125 \n",
       "z\n",
       "\" id=\"DejaVuSans-52\"/>\n",
       "      </defs>\n",
       "      <g transform=\"translate(167.3345 241.225656)scale(0.1 -0.1)\">\n",
       "       <use xlink:href=\"#DejaVuSans-52\"/>\n",
       "       <use x=\"63.623047\" xlink:href=\"#DejaVuSans-48\"/>\n",
       "      </g>\n",
       "     </g>\n",
       "    </g>\n",
       "   </g>\n",
       "   <g id=\"matplotlib.axis_2\">\n",
       "    <g id=\"ytick_1\">\n",
       "     <g id=\"line2d_6\">\n",
       "      <defs>\n",
       "       <path d=\"M 0 0 \n",
       "L -3.5 0 \n",
       "\" id=\"m56697d4bc6\" style=\"stroke:#000000;stroke-width:0.8;\"/>\n",
       "      </defs>\n",
       "      <g>\n",
       "       <use style=\"stroke:#000000;stroke-width:0.8;\" x=\"26.925\" xlink:href=\"#m56697d4bc6\" y=\"10.999219\"/>\n",
       "      </g>\n",
       "     </g>\n",
       "     <g id=\"text_6\">\n",
       "      <!-- 0 -->\n",
       "      <g transform=\"translate(13.5625 14.798437)scale(0.1 -0.1)\">\n",
       "       <use xlink:href=\"#DejaVuSans-48\"/>\n",
       "      </g>\n",
       "     </g>\n",
       "    </g>\n",
       "    <g id=\"ytick_2\">\n",
       "     <g id=\"line2d_7\">\n",
       "      <g>\n",
       "       <use style=\"stroke:#000000;stroke-width:0.8;\" x=\"26.925\" xlink:href=\"#m56697d4bc6\" y=\"47.239219\"/>\n",
       "      </g>\n",
       "     </g>\n",
       "     <g id=\"text_7\">\n",
       "      <!-- 10 -->\n",
       "      <g transform=\"translate(7.2 51.038437)scale(0.1 -0.1)\">\n",
       "       <use xlink:href=\"#DejaVuSans-49\"/>\n",
       "       <use x=\"63.623047\" xlink:href=\"#DejaVuSans-48\"/>\n",
       "      </g>\n",
       "     </g>\n",
       "    </g>\n",
       "    <g id=\"ytick_3\">\n",
       "     <g id=\"line2d_8\">\n",
       "      <g>\n",
       "       <use style=\"stroke:#000000;stroke-width:0.8;\" x=\"26.925\" xlink:href=\"#m56697d4bc6\" y=\"83.479219\"/>\n",
       "      </g>\n",
       "     </g>\n",
       "     <g id=\"text_8\">\n",
       "      <!-- 20 -->\n",
       "      <g transform=\"translate(7.2 87.278437)scale(0.1 -0.1)\">\n",
       "       <use xlink:href=\"#DejaVuSans-50\"/>\n",
       "       <use x=\"63.623047\" xlink:href=\"#DejaVuSans-48\"/>\n",
       "      </g>\n",
       "     </g>\n",
       "    </g>\n",
       "    <g id=\"ytick_4\">\n",
       "     <g id=\"line2d_9\">\n",
       "      <g>\n",
       "       <use style=\"stroke:#000000;stroke-width:0.8;\" x=\"26.925\" xlink:href=\"#m56697d4bc6\" y=\"119.719219\"/>\n",
       "      </g>\n",
       "     </g>\n",
       "     <g id=\"text_9\">\n",
       "      <!-- 30 -->\n",
       "      <g transform=\"translate(7.2 123.518437)scale(0.1 -0.1)\">\n",
       "       <use xlink:href=\"#DejaVuSans-51\"/>\n",
       "       <use x=\"63.623047\" xlink:href=\"#DejaVuSans-48\"/>\n",
       "      </g>\n",
       "     </g>\n",
       "    </g>\n",
       "    <g id=\"ytick_5\">\n",
       "     <g id=\"line2d_10\">\n",
       "      <g>\n",
       "       <use style=\"stroke:#000000;stroke-width:0.8;\" x=\"26.925\" xlink:href=\"#m56697d4bc6\" y=\"155.959219\"/>\n",
       "      </g>\n",
       "     </g>\n",
       "     <g id=\"text_10\">\n",
       "      <!-- 40 -->\n",
       "      <g transform=\"translate(7.2 159.758437)scale(0.1 -0.1)\">\n",
       "       <use xlink:href=\"#DejaVuSans-52\"/>\n",
       "       <use x=\"63.623047\" xlink:href=\"#DejaVuSans-48\"/>\n",
       "      </g>\n",
       "     </g>\n",
       "    </g>\n",
       "    <g id=\"ytick_6\">\n",
       "     <g id=\"line2d_11\">\n",
       "      <g>\n",
       "       <use style=\"stroke:#000000;stroke-width:0.8;\" x=\"26.925\" xlink:href=\"#m56697d4bc6\" y=\"192.199219\"/>\n",
       "      </g>\n",
       "     </g>\n",
       "     <g id=\"text_11\">\n",
       "      <!-- 50 -->\n",
       "      <defs>\n",
       "       <path d=\"M 10.796875 72.90625 \n",
       "L 49.515625 72.90625 \n",
       "L 49.515625 64.59375 \n",
       "L 19.828125 64.59375 \n",
       "L 19.828125 46.734375 \n",
       "Q 21.96875 47.46875 24.109375 47.828125 \n",
       "Q 26.265625 48.1875 28.421875 48.1875 \n",
       "Q 40.625 48.1875 47.75 41.5 \n",
       "Q 54.890625 34.8125 54.890625 23.390625 \n",
       "Q 54.890625 11.625 47.5625 5.09375 \n",
       "Q 40.234375 -1.421875 26.90625 -1.421875 \n",
       "Q 22.3125 -1.421875 17.546875 -0.640625 \n",
       "Q 12.796875 0.140625 7.71875 1.703125 \n",
       "L 7.71875 11.625 \n",
       "Q 12.109375 9.234375 16.796875 8.0625 \n",
       "Q 21.484375 6.890625 26.703125 6.890625 \n",
       "Q 35.15625 6.890625 40.078125 11.328125 \n",
       "Q 45.015625 15.765625 45.015625 23.390625 \n",
       "Q 45.015625 31 40.078125 35.4375 \n",
       "Q 35.15625 39.890625 26.703125 39.890625 \n",
       "Q 22.75 39.890625 18.8125 39.015625 \n",
       "Q 14.890625 38.140625 10.796875 36.28125 \n",
       "z\n",
       "\" id=\"DejaVuSans-53\"/>\n",
       "      </defs>\n",
       "      <g transform=\"translate(7.2 195.998437)scale(0.1 -0.1)\">\n",
       "       <use xlink:href=\"#DejaVuSans-53\"/>\n",
       "       <use x=\"63.623047\" xlink:href=\"#DejaVuSans-48\"/>\n",
       "      </g>\n",
       "     </g>\n",
       "    </g>\n",
       "   </g>\n",
       "   <g id=\"patch_3\">\n",
       "    <path d=\"M 26.925 226.627219 \n",
       "L 26.925 9.187219 \n",
       "\" style=\"fill:none;stroke:#000000;stroke-linecap:square;stroke-linejoin:miter;stroke-width:0.8;\"/>\n",
       "   </g>\n",
       "   <g id=\"patch_4\">\n",
       "    <path d=\"M 186.381 226.627219 \n",
       "L 186.381 9.187219 \n",
       "\" style=\"fill:none;stroke:#000000;stroke-linecap:square;stroke-linejoin:miter;stroke-width:0.8;\"/>\n",
       "   </g>\n",
       "   <g id=\"patch_5\">\n",
       "    <path d=\"M 26.925 226.627219 \n",
       "L 186.381 226.627219 \n",
       "\" style=\"fill:none;stroke:#000000;stroke-linecap:square;stroke-linejoin:miter;stroke-width:0.8;\"/>\n",
       "   </g>\n",
       "   <g id=\"patch_6\">\n",
       "    <path d=\"M 26.925 9.187219 \n",
       "L 186.381 9.187219 \n",
       "\" style=\"fill:none;stroke:#000000;stroke-linecap:square;stroke-linejoin:miter;stroke-width:0.8;\"/>\n",
       "   </g>\n",
       "  </g>\n",
       " </g>\n",
       " <defs>\n",
       "  <clipPath id=\"pa8ffbafd4d\">\n",
       "   <rect height=\"217.44\" width=\"159.456\" x=\"26.925\" y=\"9.187219\"/>\n",
       "  </clipPath>\n",
       " </defs>\n",
       "</svg>\n"
      ],
      "text/plain": [
       "<Figure size 432x288 with 1 Axes>"
      ]
     },
     "metadata": {
      "needs_background": "light"
     },
     "output_type": "display_data"
    }
   ],
   "source": [
    "plt.imshow(X_test[11151])"
   ]
  },
  {
   "cell_type": "code",
   "execution_count": 27,
   "metadata": {},
   "outputs": [
    {
     "data": {
      "text/plain": [
       "(135943,)"
      ]
     },
     "execution_count": 27,
     "metadata": {},
     "output_type": "execute_result"
    }
   ],
   "source": [
    "y_train.shape"
   ]
  },
  {
   "cell_type": "code",
   "execution_count": 1,
   "metadata": {},
   "outputs": [
    {
     "name": "stderr",
     "output_type": "stream",
     "text": [
      "Using TensorFlow backend.\n"
     ]
    }
   ],
   "source": [
    "import pandas as pd\n",
    "from sklearn.model_selection import train_test_split\n",
    "import numpy as np\n",
    "from tqdm.auto import tqdm\n",
    "import matplotlib.pyplot as plt\n",
    "from sklearn.preprocessing import StandardScaler\n",
    "from keras.layers import Input, Conv2D, MaxPooling2D, Flatten, Dense\n",
    "from keras.models import Sequential\n",
    "import tensorflow as tf"
   ]
  },
  {
   "cell_type": "code",
   "execution_count": 2,
   "metadata": {},
   "outputs": [
    {
     "name": "stdout",
     "output_type": "stream",
     "text": [
      "1 Physical GPUs, 1 Logical GPUs\n"
     ]
    }
   ],
   "source": [
    "gpus = tf.config.experimental.list_physical_devices('GPU')\n",
    "if gpus:\n",
    "    try:\n",
    "        # Restrict TensorFlow to only use the fourth GPU\n",
    "        tf.config.experimental.set_visible_devices(gpus[0], 'GPU')\n",
    "\n",
    "        # Currently, memory growth needs to be the same across GPUs\n",
    "        for gpu in gpus:\n",
    "            tf.config.experimental.set_memory_growth(gpu, True)\n",
    "        logical_gpus = tf.config.experimental.list_logical_devices('GPU')\n",
    "        print(len(gpus), \"Physical GPUs,\", len(logical_gpus), \"Logical GPUs\")\n",
    "    except RuntimeError as e:\n",
    "        # Memory growth must be set before GPUs have been initialized\n",
    "        print(e)"
   ]
  },
  {
   "cell_type": "code",
   "execution_count": 3,
   "metadata": {},
   "outputs": [
    {
     "data": {
      "text/plain": [
       "[PhysicalDevice(name='/physical_device:GPU:0', device_type='GPU')]"
      ]
     },
     "execution_count": 3,
     "metadata": {},
     "output_type": "execute_result"
    }
   ],
   "source": [
    "tf.config.list_physical_devices('GPU')"
   ]
  },
  {
   "cell_type": "code",
   "execution_count": 4,
   "metadata": {},
   "outputs": [],
   "source": [
    "X = np.load('data/X.npy')\n",
    "y = np.load('data/y.npy')"
   ]
  },
  {
   "cell_type": "code",
   "execution_count": 5,
   "metadata": {},
   "outputs": [
    {
     "data": {
      "text/plain": [
       "(169929, 60, 44)"
      ]
     },
     "execution_count": 5,
     "metadata": {},
     "output_type": "execute_result"
    }
   ],
   "source": [
    "X.shape"
   ]
  },
  {
   "cell_type": "code",
   "execution_count": 6,
   "metadata": {},
   "outputs": [],
   "source": [
    "X_train, X_test, y_train, y_test = train_test_split(X, y, test_size=0.3, shuffle=True, random_state=42)\n",
    "X_train = X_train.reshape(-1, 60, 44, 1)\n",
    "X_test = X_test.reshape(-1, 60, 44, 1)\n",
    "y_train = np.asarray(y_train).astype('float32').reshape((-1,1))\n",
    "y_test = np.asarray(y_test).astype('float32').reshape((-1,1))"
   ]
  },
  {
   "cell_type": "code",
   "execution_count": 7,
   "metadata": {},
   "outputs": [
    {
     "data": {
      "text/plain": [
       "((118950, 60, 44, 1), (118950, 1))"
      ]
     },
     "execution_count": 7,
     "metadata": {},
     "output_type": "execute_result"
    }
   ],
   "source": [
    "X_train.shape, y_train.shape"
   ]
  },
  {
   "cell_type": "markdown",
   "metadata": {},
   "source": [
    "# Model Design"
   ]
  },
  {
   "cell_type": "code",
   "execution_count": 8,
   "metadata": {},
   "outputs": [],
   "source": [
    "if False:\n",
    "    from keras.datasets import mnist\n",
    "    (train_X, train_y), (test_X, test_y) = mnist.load_data()\n",
    "    sample_shape = train_X[0].shape\n",
    "    img_width, img_height = sample_shape[0], sample_shape[1]\n",
    "    input_shape = (img_width, img_height, 1)\n",
    "    train_X.shape, input_shape, train_y.shape"
   ]
  },
  {
   "cell_type": "code",
   "execution_count": 9,
   "metadata": {},
   "outputs": [],
   "source": [
    "sample_shape = X_train[0].shape\n",
    "img_width, img_height = sample_shape[0], sample_shape[1]\n",
    "input_shape = (img_width, img_height, 1)"
   ]
  },
  {
   "cell_type": "code",
   "execution_count": 10,
   "metadata": {},
   "outputs": [
    {
     "data": {
      "text/plain": [
       "(60, 44, 1)"
      ]
     },
     "execution_count": 10,
     "metadata": {},
     "output_type": "execute_result"
    }
   ],
   "source": [
    "input_shape"
   ]
  },
  {
   "cell_type": "code",
   "execution_count": 11,
   "metadata": {},
   "outputs": [],
   "source": [
    "KERNEL_SIZE = (5, 5)\n",
    "POOL_SIZE = (2, 2)"
   ]
  },
  {
   "cell_type": "code",
   "execution_count": 12,
   "metadata": {},
   "outputs": [],
   "source": [
    "# test-only, not to be used in practice\n",
    "model = Sequential()\n",
    "\n",
    "model.add(Conv2D(64, KERNEL_SIZE, input_shape=input_shape,\n",
    "                 activation='relu', use_bias=True, strides=1, padding='same'))\n",
    "\n",
    "model.add(Conv2D(64, KERNEL_SIZE, activation='relu',\n",
    "                 strides=1, use_bias=True, padding='same'))\n",
    "\n",
    "model.add(MaxPooling2D(pool_size=POOL_SIZE, strides=2))\n",
    "\n",
    "model.add(Conv2D(128, KERNEL_SIZE, activation='relu',\n",
    "                 strides=1, use_bias=True, padding='same'))\n",
    "\n",
    "model.add(Conv2D(128, KERNEL_SIZE, activation='relu',\n",
    "                 strides=1, use_bias=True, padding='same'))\n",
    "\n",
    "model.add(MaxPooling2D(pool_size=POOL_SIZE, strides=2))\n",
    "\n",
    "model.add(Flatten())\n",
    "model.add(Dense(units=512, activation='relu'))\n",
    "model.add(Dense(units=1, activation='sigmoid'))"
   ]
  },
  {
   "cell_type": "code",
   "execution_count": 13,
   "metadata": {},
   "outputs": [],
   "source": [
    "model.compile(loss=\"binary_crossentropy\", optimizer=\"adam\", metrics=[tf.keras.metrics.AUC(), tf.keras.metrics.BinaryAccuracy()])"
   ]
  },
  {
   "cell_type": "code",
   "execution_count": 14,
   "metadata": {},
   "outputs": [
    {
     "name": "stdout",
     "output_type": "stream",
     "text": [
      "Train on 107055 samples, validate on 11895 samples\n",
      "Epoch 1/10\n",
      "107055/107055 [==============================] - 41s 387us/step - loss: 0.0171 - auc: 0.4813 - binary_accuracy: 0.9784 - val_loss: 0.0191 - val_auc: 0.4995 - val_binary_accuracy: 0.9954\n",
      "Epoch 2/10\n",
      "107055/107055 [==============================] - 37s 344us/step - loss: 0.0106 - auc: 0.5213 - binary_accuracy: 0.9964 - val_loss: 0.0131 - val_auc: 0.5202 - val_binary_accuracy: 0.9970\n",
      "Epoch 3/10\n",
      "107055/107055 [==============================] - 37s 345us/step - loss: 0.0101 - auc: 0.5186 - binary_accuracy: 0.9974 - val_loss: 0.0148 - val_auc: 0.5188 - val_binary_accuracy: 0.9976\n",
      "Epoch 4/10\n",
      "107055/107055 [==============================] - 37s 346us/step - loss: 0.0100 - auc: 0.5215 - binary_accuracy: 0.9977 - val_loss: 0.0145 - val_auc: 0.5222 - val_binary_accuracy: 0.9978\n",
      "Epoch 5/10\n",
      "107055/107055 [==============================] - 37s 346us/step - loss: 0.0096 - auc: 0.5253 - binary_accuracy: 0.9979 - val_loss: 0.0131 - val_auc: 0.5340 - val_binary_accuracy: 0.9980\n",
      "Epoch 6/10\n",
      "107055/107055 [==============================] - 37s 348us/step - loss: 0.0096 - auc: 0.5372 - binary_accuracy: 0.9981 - val_loss: 0.0134 - val_auc: 0.5426 - val_binary_accuracy: 0.9981\n",
      "Epoch 7/10\n",
      "107055/107055 [==============================] - 38s 350us/step - loss: 0.0091 - auc: 0.5506 - binary_accuracy: 0.9981 - val_loss: 0.0140 - val_auc: 0.5598 - val_binary_accuracy: 0.9982\n",
      "Epoch 8/10\n",
      "107055/107055 [==============================] - 38s 352us/step - loss: 0.0085 - auc: 0.5701 - binary_accuracy: 0.9982 - val_loss: 0.0143 - val_auc: 0.5766 - val_binary_accuracy: 0.9982\n",
      "Epoch 9/10\n",
      "107055/107055 [==============================] - 37s 350us/step - loss: 0.0076 - auc: 0.5879 - binary_accuracy: 0.9983 - val_loss: 0.0164 - val_auc: 0.5990 - val_binary_accuracy: 0.9983\n",
      "Epoch 10/10\n",
      "107055/107055 [==============================] - 37s 346us/step - loss: 0.0059 - auc: 0.6120 - binary_accuracy: 0.9983 - val_loss: 0.0238 - val_auc: 0.6230 - val_binary_accuracy: 0.9983\n"
     ]
    },
    {
     "data": {
      "text/plain": [
       "<keras.callbacks.callbacks.History at 0x7f15518b1f40>"
      ]
     },
     "execution_count": 14,
     "metadata": {},
     "output_type": "execute_result"
    }
   ],
   "source": [
    "model.fit(X_train, y_train, epochs=10, batch_size=512, verbose=1, validation_split=0.1)"
   ]
  },
  {
   "cell_type": "code",
   "execution_count": 19,
   "metadata": {},
   "outputs": [
    {
     "name": "stdout",
     "output_type": "stream",
     "text": [
      "50979/50979 [==============================] - 7s 138us/step\n"
     ]
    },
    {
     "data": {
      "text/plain": [
       "[0.014783640792602115, 0.6169777512550354, 0.998345136642456]"
      ]
     },
     "execution_count": 19,
     "metadata": {},
     "output_type": "execute_result"
    }
   ],
   "source": [
    "model.evaluate(X_test, y_test, batch_size=512)"
   ]
  },
  {
   "cell_type": "code",
   "execution_count": 20,
   "metadata": {},
   "outputs": [],
   "source": [
    "y_pred = model.predict(X_test)"
   ]
  },
  {
   "cell_type": "code",
   "execution_count": 21,
   "metadata": {},
   "outputs": [
    {
     "data": {
      "text/plain": [
       "array([8])"
      ]
     },
     "execution_count": 21,
     "metadata": {},
     "output_type": "execute_result"
    }
   ],
   "source": [
    "sum(y_pred > 0.1)"
   ]
  },
  {
   "cell_type": "code",
   "execution_count": 25,
   "metadata": {},
   "outputs": [],
   "source": [
    "from sklearn.metrics import roc_auc_score, plot_roc_curve, roc_curve\n",
    "fpr_keras, tpr_keras, thresholds_keras = roc_curve(y_test, y_pred)\n",
    "from sklearn.metrics import auc\n",
    "auc_keras = auc(fpr_keras, tpr_keras)"
   ]
  },
  {
   "cell_type": "code",
   "execution_count": 26,
   "metadata": {},
   "outputs": [
    {
     "data": {
      "image/png": "[encoded data removed]",
      "text/plain": [
       "<Figure size 432x288 with 1 Axes>"
      ]
     },
     "metadata": {
      "needs_background": "light"
     },
     "output_type": "display_data"
    }
   ],
   "source": [
    "plt.figure(1)\n",
    "plt.plot([0, 1], [0, 1], 'k--')\n",
    "plt.plot(fpr_keras, tpr_keras, label='Keras (area = {:.3f})'.format(auc_keras))\n",
    "plt.xlabel('False positive rate')\n",
    "plt.ylabel('True positive rate')\n",
    "plt.title('ROC curve')\n",
    "plt.legend(loc='best')\n",
    "plt.show()"
   ]
  },
  {
   "cell_type": "code",
   "execution_count": null,
   "metadata": {},
   "outputs": [],
   "source": []
  }
 ],
 "metadata": {
  "kernelspec": {
   "display_name": "Python 3.8.5 64-bit",
   "language": "python",
   "name": "python38564bit9588a2d05b7c46a3a6e1959c8f790135"
  },
  "language_info": {
   "codemirror_mode": {
    "name": "ipython",
    "version": 3
   },
   "file_extension": ".py",
   "mimetype": "text/x-python",
   "name": "python",
   "nbconvert_exporter": "python",
   "pygments_lexer": "ipython3",
   "version": "3.8.5"
  },
  "metadata": {
   "interpreter": {
    "hash": "31f2aee4e71d21fbe5cf8b01ff0e069b9275f58929596ceb00d14d90e3e16cd6"
   }
  }
 },
 "nbformat": 4,
 "nbformat_minor": 2
}
