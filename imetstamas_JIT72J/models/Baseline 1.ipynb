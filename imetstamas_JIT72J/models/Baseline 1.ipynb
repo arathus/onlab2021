{
 "cells": [
  {
   "cell_type": "code",
   "execution_count": 1,
   "metadata": {},
   "outputs": [],
   "source": [
    "import pandas as pd"
   ]
  },
  {
   "cell_type": "code",
   "execution_count": 2,
   "metadata": {},
   "outputs": [],
   "source": [
    "data = pd.read_csv('data/labeled.csv')"
   ]
  },
  {
   "cell_type": "code",
   "execution_count": 3,
   "metadata": {},
   "outputs": [
    {
     "name": "stdout",
     "output_type": "stream",
     "text": [
      "<class 'pandas.core.frame.DataFrame'>\n",
      "RangeIndex: 170320 entries, 0 to 170319\n",
      "Data columns (total 56 columns):\n",
      " #   Column        Non-Null Count   Dtype  \n",
      "---  ------        --------------   -----  \n",
      " 0   date          170320 non-null  object \n",
      " 1   timestamp     170320 non-null  int64  \n",
      " 2   ask           170320 non-null  float64\n",
      " 3   bid           170320 non-null  float64\n",
      " 4   askvol        170320 non-null  float64\n",
      " 5   bidvol        170320 non-null  float64\n",
      " 6   ask10         170320 non-null  float64\n",
      " 7   ask20         170320 non-null  float64\n",
      " 8   ask30         170320 non-null  float64\n",
      " 9   ask40         170320 non-null  float64\n",
      " 10  ask50         170320 non-null  float64\n",
      " 11  ask60         170320 non-null  float64\n",
      " 12  ask70         170320 non-null  float64\n",
      " 13  ask80         170320 non-null  float64\n",
      " 14  ask90         170320 non-null  float64\n",
      " 15  ask100        170320 non-null  float64\n",
      " 16  ask110        170320 non-null  float64\n",
      " 17  ask120        170320 non-null  float64\n",
      " 18  ask130        170320 non-null  float64\n",
      " 19  ask140        170320 non-null  float64\n",
      " 20  ask150        170320 non-null  float64\n",
      " 21  ask160        170320 non-null  float64\n",
      " 22  ask170        170320 non-null  float64\n",
      " 23  ask180        170320 non-null  float64\n",
      " 24  ask190        170320 non-null  float64\n",
      " 25  ask200        170320 non-null  float64\n",
      " 26  bid10         170320 non-null  float64\n",
      " 27  bid20         170320 non-null  float64\n",
      " 28  bid30         170320 non-null  float64\n",
      " 29  bid40         170320 non-null  float64\n",
      " 30  bid50         170320 non-null  float64\n",
      " 31  bid60         170320 non-null  float64\n",
      " 32  bid70         170320 non-null  float64\n",
      " 33  bid80         170320 non-null  float64\n",
      " 34  bid90         170320 non-null  float64\n",
      " 35  bid100        170320 non-null  float64\n",
      " 36  bid110        170320 non-null  float64\n",
      " 37  bid120        170320 non-null  float64\n",
      " 38  bid130        170320 non-null  float64\n",
      " 39  bid140        170320 non-null  float64\n",
      " 40  bid150        170320 non-null  float64\n",
      " 41  bid160        170320 non-null  float64\n",
      " 42  bid170        170320 non-null  float64\n",
      " 43  bid180        170320 non-null  float64\n",
      " 44  bid190        170320 non-null  float64\n",
      " 45  bid200        170320 non-null  float64\n",
      " 46  mid           170320 non-null  float64\n",
      " 47  change        170319 non-null  float64\n",
      " 48  askvolch      170320 non-null  float64\n",
      " 49  bidvolch      170320 non-null  float64\n",
      " 50  midch         170320 non-null  float64\n",
      " 51  days          170320 non-null  object \n",
      " 52  trendline     170201 non-null  float64\n",
      " 53  cross_bidvol  170320 non-null  bool   \n",
      " 54  cross_askvol  170320 non-null  bool   \n",
      " 55  position      170320 non-null  float64\n",
      "dtypes: bool(2), float64(51), int64(1), object(2)\n",
      "memory usage: 70.5+ MB\n"
     ]
    }
   ],
   "source": [
    "data.info()"
   ]
  },
  {
   "cell_type": "code",
   "execution_count": 4,
   "metadata": {},
   "outputs": [
    {
     "data": {
      "text/plain": [
       "(212, 227)"
      ]
     },
     "execution_count": 4,
     "metadata": {},
     "output_type": "execute_result"
    }
   ],
   "source": [
    "sum(data['position'] == -1), sum(data['position'] == 1)"
   ]
  },
  {
   "cell_type": "code",
   "execution_count": 5,
   "metadata": {},
   "outputs": [],
   "source": [
    "from sklearn.ensemble import IsolationForest\n",
    "from sklearn.linear_model import LinearRegression"
   ]
  },
  {
   "cell_type": "code",
   "execution_count": 6,
   "metadata": {},
   "outputs": [],
   "source": [
    "rfc = IsolationForest()\n",
    "data['change'] = data.ask.pct_change()"
   ]
  },
  {
   "cell_type": "code",
   "execution_count": 7,
   "metadata": {},
   "outputs": [
    {
     "data": {
      "text/plain": [
       "15.0"
      ]
     },
     "execution_count": 7,
     "metadata": {},
     "output_type": "execute_result"
    }
   ],
   "source": [
    "sum(data['position'])"
   ]
  },
  {
   "cell_type": "code",
   "execution_count": 8,
   "metadata": {},
   "outputs": [],
   "source": [
    "from sklearn.model_selection import train_test_split"
   ]
  },
  {
   "cell_type": "code",
   "execution_count": 9,
   "metadata": {},
   "outputs": [],
   "source": [
    "X_train, X_test, y_train, y_test = train_test_split(data.drop(['position', 'date', 'timestamp', 'days'], axis=1).dropna(), data.drop(['date', 'timestamp', 'days'], axis=1).dropna()['position'], test_size=0.4)"
   ]
  },
  {
   "cell_type": "code",
   "execution_count": 10,
   "metadata": {},
   "outputs": [
    {
     "data": {
      "text/plain": [
       "107383    0.0\n",
       "141792    0.0\n",
       "159971    0.0\n",
       "19707     0.0\n",
       "120896    0.0\n",
       "         ... \n",
       "86388     0.0\n",
       "65178     0.0\n",
       "137239    0.0\n",
       "38816     0.0\n",
       "66228     0.0\n",
       "Name: position, Length: 68081, dtype: float64"
      ]
     },
     "execution_count": 10,
     "metadata": {},
     "output_type": "execute_result"
    }
   ],
   "source": [
    "y_test"
   ]
  },
  {
   "cell_type": "code",
   "execution_count": 11,
   "metadata": {},
   "outputs": [],
   "source": [
    "lin = LinearRegression()"
   ]
  },
  {
   "cell_type": "code",
   "execution_count": 12,
   "metadata": {},
   "outputs": [
    {
     "data": {
      "text/plain": [
       "LinearRegression()"
      ]
     },
     "execution_count": 12,
     "metadata": {},
     "output_type": "execute_result"
    }
   ],
   "source": [
    "lin.fit(X_train, y_train)"
   ]
  },
  {
   "cell_type": "code",
   "execution_count": 13,
   "metadata": {},
   "outputs": [],
   "source": [
    "pred = lin.predict(X_test)"
   ]
  },
  {
   "cell_type": "code",
   "execution_count": 14,
   "metadata": {},
   "outputs": [],
   "source": [
    "from sklearn.metrics import accuracy_score, mean_absolute_error, roc_auc_score"
   ]
  },
  {
   "cell_type": "code",
   "execution_count": 15,
   "metadata": {},
   "outputs": [
    {
     "data": {
      "text/plain": [
       "6.408020103863865"
      ]
     },
     "execution_count": 15,
     "metadata": {},
     "output_type": "execute_result"
    }
   ],
   "source": [
    "sum(pred)"
   ]
  },
  {
   "cell_type": "markdown",
   "metadata": {},
   "source": [
    "# Drop one class in each model\n",
    "\n",
    "Convert the experiment to a single class anomaly detection problem."
   ]
  },
  {
   "cell_type": "code",
   "execution_count": 60,
   "metadata": {},
   "outputs": [],
   "source": [
    "buy_signals = data.drop(data[data.position < 0].index)\n"
   ]
  },
  {
   "cell_type": "code",
   "execution_count": 61,
   "metadata": {},
   "outputs": [
    {
     "data": {
      "text/html": [
       "<div>\n",
       "<style scoped>\n",
       "    .dataframe tbody tr th:only-of-type {\n",
       "        vertical-align: middle;\n",
       "    }\n",
       "\n",
       "    .dataframe tbody tr th {\n",
       "        vertical-align: top;\n",
       "    }\n",
       "\n",
       "    .dataframe thead th {\n",
       "        text-align: right;\n",
       "    }\n",
       "</style>\n",
       "<table border=\"1\" class=\"dataframe\">\n",
       "  <thead>\n",
       "    <tr style=\"text-align: right;\">\n",
       "      <th></th>\n",
       "      <th>timestamp</th>\n",
       "      <th>ask</th>\n",
       "      <th>bid</th>\n",
       "      <th>askvol</th>\n",
       "      <th>bidvol</th>\n",
       "      <th>ask10</th>\n",
       "      <th>ask20</th>\n",
       "      <th>ask30</th>\n",
       "      <th>ask40</th>\n",
       "      <th>ask50</th>\n",
       "      <th>...</th>\n",
       "      <th>bid180</th>\n",
       "      <th>bid190</th>\n",
       "      <th>bid200</th>\n",
       "      <th>mid</th>\n",
       "      <th>change</th>\n",
       "      <th>askvolch</th>\n",
       "      <th>bidvolch</th>\n",
       "      <th>midch</th>\n",
       "      <th>trendline</th>\n",
       "      <th>position</th>\n",
       "    </tr>\n",
       "  </thead>\n",
       "  <tbody>\n",
       "    <tr>\n",
       "      <th>count</th>\n",
       "      <td>1.701080e+05</td>\n",
       "      <td>170108.000000</td>\n",
       "      <td>170108.000000</td>\n",
       "      <td>170108.000000</td>\n",
       "      <td>170108.000000</td>\n",
       "      <td>170108.000000</td>\n",
       "      <td>170108.000000</td>\n",
       "      <td>170108.000000</td>\n",
       "      <td>170108.000000</td>\n",
       "      <td>170108.000000</td>\n",
       "      <td>...</td>\n",
       "      <td>170108.000000</td>\n",
       "      <td>170108.000000</td>\n",
       "      <td>170108.000000</td>\n",
       "      <td>170108.000000</td>\n",
       "      <td>1.701070e+05</td>\n",
       "      <td>170108.000000</td>\n",
       "      <td>170108.000000</td>\n",
       "      <td>170108.000000</td>\n",
       "      <td>169989.000000</td>\n",
       "      <td>170108.000000</td>\n",
       "    </tr>\n",
       "    <tr>\n",
       "      <th>mean</th>\n",
       "      <td>1.614520e+12</td>\n",
       "      <td>45754.865938</td>\n",
       "      <td>45760.702010</td>\n",
       "      <td>38.145850</td>\n",
       "      <td>194.513363</td>\n",
       "      <td>1.649342</td>\n",
       "      <td>1.315434</td>\n",
       "      <td>1.234824</td>\n",
       "      <td>1.016127</td>\n",
       "      <td>0.649814</td>\n",
       "      <td>...</td>\n",
       "      <td>0.218578</td>\n",
       "      <td>0.177853</td>\n",
       "      <td>0.144771</td>\n",
       "      <td>45757.783974</td>\n",
       "      <td>-7.535895e-08</td>\n",
       "      <td>5.220032</td>\n",
       "      <td>10.012523</td>\n",
       "      <td>30.359152</td>\n",
       "      <td>45756.498157</td>\n",
       "      <td>0.001334</td>\n",
       "    </tr>\n",
       "    <tr>\n",
       "      <th>std</th>\n",
       "      <td>4.918908e+07</td>\n",
       "      <td>1232.198015</td>\n",
       "      <td>1231.203884</td>\n",
       "      <td>54.665071</td>\n",
       "      <td>189.104561</td>\n",
       "      <td>3.470342</td>\n",
       "      <td>2.029377</td>\n",
       "      <td>2.006460</td>\n",
       "      <td>2.058862</td>\n",
       "      <td>1.682717</td>\n",
       "      <td>...</td>\n",
       "      <td>1.228660</td>\n",
       "      <td>1.185845</td>\n",
       "      <td>1.053835</td>\n",
       "      <td>1231.695539</td>\n",
       "      <td>1.796488e-04</td>\n",
       "      <td>5.235838</td>\n",
       "      <td>9.426748</td>\n",
       "      <td>17.608039</td>\n",
       "      <td>1230.300224</td>\n",
       "      <td>0.036506</td>\n",
       "    </tr>\n",
       "    <tr>\n",
       "      <th>min</th>\n",
       "      <td>1.614435e+12</td>\n",
       "      <td>43000.010000</td>\n",
       "      <td>43004.800000</td>\n",
       "      <td>0.000000</td>\n",
       "      <td>0.011218</td>\n",
       "      <td>0.000000</td>\n",
       "      <td>0.000000</td>\n",
       "      <td>0.000000</td>\n",
       "      <td>0.000000</td>\n",
       "      <td>0.000000</td>\n",
       "      <td>...</td>\n",
       "      <td>0.000000</td>\n",
       "      <td>0.000000</td>\n",
       "      <td>0.000000</td>\n",
       "      <td>43002.485000</td>\n",
       "      <td>-4.869209e-03</td>\n",
       "      <td>0.000056</td>\n",
       "      <td>0.000113</td>\n",
       "      <td>0.000119</td>\n",
       "      <td>43118.592375</td>\n",
       "      <td>0.000000</td>\n",
       "    </tr>\n",
       "    <tr>\n",
       "      <th>25%</th>\n",
       "      <td>1.614477e+12</td>\n",
       "      <td>44802.930000</td>\n",
       "      <td>44811.642500</td>\n",
       "      <td>6.652615</td>\n",
       "      <td>74.744326</td>\n",
       "      <td>0.134608</td>\n",
       "      <td>0.356538</td>\n",
       "      <td>0.202389</td>\n",
       "      <td>0.003330</td>\n",
       "      <td>0.000000</td>\n",
       "      <td>...</td>\n",
       "      <td>0.000000</td>\n",
       "      <td>0.000000</td>\n",
       "      <td>0.000000</td>\n",
       "      <td>44807.363750</td>\n",
       "      <td>-5.515551e-05</td>\n",
       "      <td>3.004654</td>\n",
       "      <td>4.178689</td>\n",
       "      <td>15.869545</td>\n",
       "      <td>44806.291208</td>\n",
       "      <td>0.000000</td>\n",
       "    </tr>\n",
       "    <tr>\n",
       "      <th>50%</th>\n",
       "      <td>1.614520e+12</td>\n",
       "      <td>46023.470000</td>\n",
       "      <td>46029.300000</td>\n",
       "      <td>13.773853</td>\n",
       "      <td>137.646214</td>\n",
       "      <td>0.768750</td>\n",
       "      <td>0.852620</td>\n",
       "      <td>0.786000</td>\n",
       "      <td>0.464287</td>\n",
       "      <td>0.099474</td>\n",
       "      <td>...</td>\n",
       "      <td>0.000000</td>\n",
       "      <td>0.000000</td>\n",
       "      <td>0.000000</td>\n",
       "      <td>46026.017500</td>\n",
       "      <td>0.000000e+00</td>\n",
       "      <td>4.064210</td>\n",
       "      <td>6.094745</td>\n",
       "      <td>28.274263</td>\n",
       "      <td>46026.775333</td>\n",
       "      <td>0.000000</td>\n",
       "    </tr>\n",
       "    <tr>\n",
       "      <th>75%</th>\n",
       "      <td>1.614563e+12</td>\n",
       "      <td>46782.375000</td>\n",
       "      <td>46785.210000</td>\n",
       "      <td>43.368536</td>\n",
       "      <td>260.650054</td>\n",
       "      <td>2.142636</td>\n",
       "      <td>1.721281</td>\n",
       "      <td>1.751069</td>\n",
       "      <td>1.459935</td>\n",
       "      <td>0.917317</td>\n",
       "      <td>...</td>\n",
       "      <td>0.000000</td>\n",
       "      <td>0.000000</td>\n",
       "      <td>0.000000</td>\n",
       "      <td>46783.835000</td>\n",
       "      <td>5.979592e-05</td>\n",
       "      <td>4.749247</td>\n",
       "      <td>13.621794</td>\n",
       "      <td>41.661586</td>\n",
       "      <td>46785.915417</td>\n",
       "      <td>0.000000</td>\n",
       "    </tr>\n",
       "    <tr>\n",
       "      <th>max</th>\n",
       "      <td>1.614605e+12</td>\n",
       "      <td>48439.930000</td>\n",
       "      <td>48440.810000</td>\n",
       "      <td>1865.787806</td>\n",
       "      <td>2630.646596</td>\n",
       "      <td>134.897135</td>\n",
       "      <td>138.382347</td>\n",
       "      <td>166.934472</td>\n",
       "      <td>166.793277</td>\n",
       "      <td>165.817030</td>\n",
       "      <td>...</td>\n",
       "      <td>151.731743</td>\n",
       "      <td>155.873628</td>\n",
       "      <td>151.855850</td>\n",
       "      <td>48439.955000</td>\n",
       "      <td>1.058950e-02</td>\n",
       "      <td>247.187780</td>\n",
       "      <td>177.159286</td>\n",
       "      <td>78.517964</td>\n",
       "      <td>48375.619250</td>\n",
       "      <td>1.000000</td>\n",
       "    </tr>\n",
       "  </tbody>\n",
       "</table>\n",
       "<p>8 rows × 52 columns</p>\n",
       "</div>"
      ],
      "text/plain": [
       "          timestamp            ask            bid         askvol  \\\n",
       "count  1.701080e+05  170108.000000  170108.000000  170108.000000   \n",
       "mean   1.614520e+12   45754.865938   45760.702010      38.145850   \n",
       "std    4.918908e+07    1232.198015    1231.203884      54.665071   \n",
       "min    1.614435e+12   43000.010000   43004.800000       0.000000   \n",
       "25%    1.614477e+12   44802.930000   44811.642500       6.652615   \n",
       "50%    1.614520e+12   46023.470000   46029.300000      13.773853   \n",
       "75%    1.614563e+12   46782.375000   46785.210000      43.368536   \n",
       "max    1.614605e+12   48439.930000   48440.810000    1865.787806   \n",
       "\n",
       "              bidvol          ask10          ask20          ask30  \\\n",
       "count  170108.000000  170108.000000  170108.000000  170108.000000   \n",
       "mean      194.513363       1.649342       1.315434       1.234824   \n",
       "std       189.104561       3.470342       2.029377       2.006460   \n",
       "min         0.011218       0.000000       0.000000       0.000000   \n",
       "25%        74.744326       0.134608       0.356538       0.202389   \n",
       "50%       137.646214       0.768750       0.852620       0.786000   \n",
       "75%       260.650054       2.142636       1.721281       1.751069   \n",
       "max      2630.646596     134.897135     138.382347     166.934472   \n",
       "\n",
       "               ask40          ask50  ...         bid180         bid190  \\\n",
       "count  170108.000000  170108.000000  ...  170108.000000  170108.000000   \n",
       "mean        1.016127       0.649814  ...       0.218578       0.177853   \n",
       "std         2.058862       1.682717  ...       1.228660       1.185845   \n",
       "min         0.000000       0.000000  ...       0.000000       0.000000   \n",
       "25%         0.003330       0.000000  ...       0.000000       0.000000   \n",
       "50%         0.464287       0.099474  ...       0.000000       0.000000   \n",
       "75%         1.459935       0.917317  ...       0.000000       0.000000   \n",
       "max       166.793277     165.817030  ...     151.731743     155.873628   \n",
       "\n",
       "              bid200            mid        change       askvolch  \\\n",
       "count  170108.000000  170108.000000  1.701070e+05  170108.000000   \n",
       "mean        0.144771   45757.783974 -7.535895e-08       5.220032   \n",
       "std         1.053835    1231.695539  1.796488e-04       5.235838   \n",
       "min         0.000000   43002.485000 -4.869209e-03       0.000056   \n",
       "25%         0.000000   44807.363750 -5.515551e-05       3.004654   \n",
       "50%         0.000000   46026.017500  0.000000e+00       4.064210   \n",
       "75%         0.000000   46783.835000  5.979592e-05       4.749247   \n",
       "max       151.855850   48439.955000  1.058950e-02     247.187780   \n",
       "\n",
       "            bidvolch          midch      trendline       position  \n",
       "count  170108.000000  170108.000000  169989.000000  170108.000000  \n",
       "mean       10.012523      30.359152   45756.498157       0.001334  \n",
       "std         9.426748      17.608039    1230.300224       0.036506  \n",
       "min         0.000113       0.000119   43118.592375       0.000000  \n",
       "25%         4.178689      15.869545   44806.291208       0.000000  \n",
       "50%         6.094745      28.274263   46026.775333       0.000000  \n",
       "75%        13.621794      41.661586   46785.915417       0.000000  \n",
       "max       177.159286      78.517964   48375.619250       1.000000  \n",
       "\n",
       "[8 rows x 52 columns]"
      ]
     },
     "execution_count": 61,
     "metadata": {},
     "output_type": "execute_result"
    }
   ],
   "source": [
    "buy_signals.describe()"
   ]
  },
  {
   "cell_type": "code",
   "execution_count": 44,
   "metadata": {},
   "outputs": [
    {
     "data": {
      "text/plain": [
       "170108"
      ]
     },
     "execution_count": 44,
     "metadata": {},
     "output_type": "execute_result"
    }
   ],
   "source": [
    "len(buy_signals)"
   ]
  },
  {
   "cell_type": "code",
   "execution_count": 19,
   "metadata": {},
   "outputs": [],
   "source": [
    "from lightgbm import LGBMClassifier\n",
    "model = LGBMClassifier()"
   ]
  },
  {
   "cell_type": "code",
   "execution_count": 151,
   "metadata": {},
   "outputs": [],
   "source": [
    "X_train, X_test, y_train, y_test = train_test_split(buy_signals.drop(['position', 'date', 'timestamp', 'days'], axis=1).dropna(), buy_signals.drop(['date', 'timestamp', 'days'], axis=1).dropna()['position'], test_size=0.4)\n",
    "X = buy_signals.drop(['position', 'date', 'timestamp', 'days'], axis=1).dropna()\n",
    "y = buy_signals.drop(['date', 'timestamp', 'days'], axis=1).dropna()['position']"
   ]
  },
  {
   "cell_type": "code",
   "execution_count": 120,
   "metadata": {},
   "outputs": [],
   "source": [
    "from sklearn.model_selection import cross_val_score\n",
    "from sklearn.model_selection import RepeatedStratifiedKFold\n",
    "from numpy import mean\n",
    "from numpy import std\n",
    "from sklearn.metrics import make_scorer\n",
    "from sklearn.metrics import roc_curve\n",
    "roc_scorer = make_scorer(roc_auc_score)\n",
    "lin = LinearRegression()"
   ]
  },
  {
   "cell_type": "code",
   "execution_count": 121,
   "metadata": {},
   "outputs": [],
   "source": [
    "cv = RepeatedStratifiedKFold(n_splits=10, n_repeats=3, random_state=1)\n",
    "n_scores = cross_val_score(lin, X, y, scoring=roc_scorer, cv=cv, n_jobs=-1)"
   ]
  },
  {
   "cell_type": "code",
   "execution_count": 122,
   "metadata": {},
   "outputs": [
    {
     "name": "stdout",
     "output_type": "stream",
     "text": [
      "Accuracy: 0.803 (0.051)\n"
     ]
    }
   ],
   "source": [
    "print('Accuracy: %.3f (%.3f)' % (mean(n_scores), std(n_scores)))"
   ]
  },
  {
   "cell_type": "code",
   "execution_count": 123,
   "metadata": {},
   "outputs": [
    {
     "data": {
      "text/plain": [
       "array([0.85095075, 0.79463124, 0.7642503 , 0.79927929, 0.79541706,\n",
       "       0.77785006, 0.77382904, 0.81645443, 0.74791522, 0.92119623,\n",
       "       0.75022089, 0.84035085, 0.81075073, 0.7032204 , 0.75491231,\n",
       "       0.82109269, 0.83965086, 0.80934977, 0.87910298, 0.80677802,\n",
       "       0.8811092 , 0.8434513 , 0.81996066, 0.7208335 , 0.85303549,\n",
       "       0.76695232, 0.76373038, 0.71405411, 0.79689741, 0.85894525])"
      ]
     },
     "execution_count": 123,
     "metadata": {},
     "output_type": "execute_result"
    }
   ],
   "source": [
    "n_scores"
   ]
  },
  {
   "cell_type": "code",
   "execution_count": 124,
   "metadata": {},
   "outputs": [],
   "source": [
    "sell_signals = data.drop(data[data.position > 0].index)\n"
   ]
  },
  {
   "cell_type": "code",
   "execution_count": 128,
   "metadata": {},
   "outputs": [],
   "source": [
    "X = sell_signals.drop(['position', 'date', 'timestamp', 'days'], axis=1).dropna()\n",
    "y = sell_signals.drop(['date', 'timestamp', 'days'], axis=1).dropna()['position']\n",
    "X_train, X_test, y_train, y_test = train_test_split(X, y, test_size=0.4)\n"
   ]
  },
  {
   "cell_type": "code",
   "execution_count": 129,
   "metadata": {},
   "outputs": [
    {
     "data": {
      "text/plain": [
       "-212.0"
      ]
     },
     "execution_count": 129,
     "metadata": {},
     "output_type": "execute_result"
    }
   ],
   "source": [
    "sell_signals.position.sum()"
   ]
  },
  {
   "cell_type": "code",
   "execution_count": 130,
   "metadata": {},
   "outputs": [],
   "source": [
    "cv = RepeatedStratifiedKFold(n_splits=10, n_repeats=3, random_state=1)\n",
    "n_scores = cross_val_score(lin, X, y, scoring=roc_scorer, cv=cv, n_jobs=-1)"
   ]
  },
  {
   "cell_type": "code",
   "execution_count": 131,
   "metadata": {},
   "outputs": [
    {
     "name": "stdout",
     "output_type": "stream",
     "text": [
      "Accuracy: 0.850 (0.045)\n"
     ]
    }
   ],
   "source": [
    "print('Accuracy: %.3f (%.3f)' % (mean(n_scores), std(n_scores)))"
   ]
  },
  {
   "cell_type": "code",
   "execution_count": 152,
   "metadata": {},
   "outputs": [
    {
     "data": {
      "text/plain": [
       "LinearRegression()"
      ]
     },
     "execution_count": 152,
     "metadata": {},
     "output_type": "execute_result"
    }
   ],
   "source": [
    "lin.fit(X_train, y_train)"
   ]
  },
  {
   "cell_type": "code",
   "execution_count": 153,
   "metadata": {},
   "outputs": [],
   "source": [
    "y_pred = lin.predict(X_train) "
   ]
  },
  {
   "cell_type": "code",
   "execution_count": 154,
   "metadata": {},
   "outputs": [
    {
     "data": {
      "text/plain": [
       "0.0013040110595825204"
      ]
     },
     "execution_count": 154,
     "metadata": {},
     "output_type": "execute_result"
    }
   ],
   "source": [
    "sum(y_train) / len(y_train)"
   ]
  },
  {
   "cell_type": "code",
   "execution_count": 156,
   "metadata": {},
   "outputs": [
    {
     "data": {
      "text/plain": [
       "0.0007745629602031512"
      ]
     },
     "execution_count": 156,
     "metadata": {},
     "output_type": "execute_result"
    }
   ],
   "source": [
    "threshold = 0.015\n",
    "sum(y_pred >= threshold) / len(y_pred)"
   ]
  },
  {
   "cell_type": "code",
   "execution_count": 157,
   "metadata": {},
   "outputs": [
    {
     "data": {
      "text/plain": [
       "79"
      ]
     },
     "execution_count": 157,
     "metadata": {},
     "output_type": "execute_result"
    }
   ],
   "source": [
    "sum(y_pred >= threshold)"
   ]
  },
  {
   "cell_type": "code",
   "execution_count": 158,
   "metadata": {},
   "outputs": [
    {
     "data": {
      "text/plain": [
       "0.5146694416189699"
      ]
     },
     "execution_count": 158,
     "metadata": {},
     "output_type": "execute_result"
    }
   ],
   "source": [
    "roc_auc_score(y_train, y_pred >= threshold)"
   ]
  },
  {
   "cell_type": "code",
   "execution_count": 160,
   "metadata": {},
   "outputs": [
    {
     "data": {
      "text/plain": [
       "0.0009706453320783576"
      ]
     },
     "execution_count": 160,
     "metadata": {},
     "output_type": "execute_result"
    }
   ],
   "source": [
    "y_pred = lin.predict(X_test)\n",
    "sum(y_pred >= threshold) / len(y_pred)"
   ]
  },
  {
   "cell_type": "code",
   "execution_count": 161,
   "metadata": {},
   "outputs": [
    {
     "data": {
      "text/plain": [
       "0.5101670304575366"
      ]
     },
     "execution_count": 161,
     "metadata": {},
     "output_type": "execute_result"
    }
   ],
   "source": [
    "roc_auc_score(y_test, y_pred >= threshold)"
   ]
  },
  {
   "cell_type": "code",
   "execution_count": 162,
   "metadata": {},
   "outputs": [
    {
     "data": {
      "text/plain": [
       "(array([0.0000000e+00, 9.4253483e-04, 1.0000000e+00]),\n",
       " array([0.       , 0.0212766, 1.       ]),\n",
       " array([2, 1, 0]))"
      ]
     },
     "execution_count": 162,
     "metadata": {},
     "output_type": "execute_result"
    }
   ],
   "source": [
    "roc_curve(y_test, y_pred >= threshold)"
   ]
  },
  {
   "cell_type": "code",
   "execution_count": 165,
   "metadata": {},
   "outputs": [
    {
     "data": {
      "text/plain": [
       "0.5"
      ]
     },
     "execution_count": 165,
     "metadata": {},
     "output_type": "execute_result"
    }
   ],
   "source": [
    "import numpy as np\n",
    "roc_auc_score(y_test, np.zeros(len(y_pred)))"
   ]
  }
 ],
 "metadata": {
  "kernelspec": {
   "display_name": "Python 3.8.5 64-bit",
   "name": "python38564bit9588a2d05b7c46a3a6e1959c8f790135"
  },
  "language_info": {
   "codemirror_mode": {
    "name": "ipython",
    "version": 3
   },
   "file_extension": ".py",
   "mimetype": "text/x-python",
   "name": "python",
   "nbconvert_exporter": "python",
   "pygments_lexer": "ipython3",
   "version": "3.8.5-final"
  },
  "metadata": {
   "interpreter": {
    "hash": "31f2aee4e71d21fbe5cf8b01ff0e069b9275f58929596ceb00d14d90e3e16cd6"
   }
  }
 },
 "nbformat": 4,
 "nbformat_minor": 2
}
